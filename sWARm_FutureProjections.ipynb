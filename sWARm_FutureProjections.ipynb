{
 "cells": [
  {
   "cell_type": "markdown",
   "metadata": {},
   "source": [
    "# sWARm Future Projections (SYSTEM 2)\n",
    "\n",
    "ZIPS-style future performance projections using joint longitudinal-survival modeling.\n",
    "Implements 1-3 year forecasting with temporal GroupKFold cross-validation.\n",
    "\n",
    "## Architecture\n",
    "- **Cell 1**: Module imports and configuration\n",
    "- **Cell 2**: Data loading and model training\n",
    "- **Cell 3**: Model validation and performance metrics\n",
    "- **Cell 4**: Future player projections generation\n",
    "- **Cell 5**: Visualizations and analysis\n",
    "\n",
    "All major functionality is implemented in `projection_modules/` following software development best practices."
   ]
  },
  {
   "cell_type": "code",
   "execution_count": 1,
   "metadata": {},
   "outputs": [
    {
     "name": "stdout",
     "output_type": "stream",
     "text": [
      "SYSTEM 2: Future Performance Projections\n",
      "==================================================\n",
      "Analysis years: 2016-2024\n",
      "Max projection years: 3\n",
      "Target projection season: 2024\n",
      "Validation folds: 5\n",
      "\n",
      "“ Modules imported and configuration set\n"
     ]
    }
   ],
   "source": [
    "# Cell 1: Module Imports and Configuration\n",
    "# =====================================\n",
    "\n",
    "import pandas as pd\n",
    "import numpy as np\n",
    "import warnings\n",
    "from pathlib import Path\n",
    "import matplotlib.pyplot as plt\n",
    "import seaborn as sns\n",
    "import plotly.graph_objects as go\n",
    "import plotly.express as px\n",
    "from plotly.subplots import make_subplots\n",
    "\n",
    "# Import SYSTEM 2 projection modules\n",
    "from future_season_modules import (\n",
    "    ExpectedStatsCalculator,\n",
    "    FutureProjectionAgeCurve,\n",
    "    AgeCurveValidator,\n",
    "    System2Pipeline\n",
    ")\n",
    "\n",
    "# Configuration\n",
    "warnings.filterwarnings('ignore', category=FutureWarning)\n",
    "pd.set_option('display.max_columns', None)\n",
    "pd.set_option('display.width', None)\n",
    "\n",
    "# Paths configuration - corrected paths\n",
    "BP_DATA_PATH = \"MLB Player Data/BP_Data\"\n",
    "FG_DATA_PATH = \"MLB Player Data/FanGraphs_Data\"\n",
    "MODEL_SAVE_PATH = \"system2_future_projections_model.pkl\"\n",
    "\n",
    "# Analysis parameters\n",
    "ANALYSIS_YEARS = list(range(2016, 2025))  # 2016-2024\n",
    "MAX_PROJECTION_YEARS = 3  # Project 1-3 years ahead\n",
    "VALIDATION_SPLITS = 5  # Temporal cross-validation folds\n",
    "TARGET_PROJECTION_SEASON = 2024  # Generate 2025-2027 projections\n",
    "\n",
    "print(\"SYSTEM 2: Future Performance Projections\")\n",
    "print(\"=\" * 50)\n",
    "print(f\"Analysis years: {ANALYSIS_YEARS[0]}-{ANALYSIS_YEARS[-1]}\")\n",
    "print(f\"Max projection years: {MAX_PROJECTION_YEARS}\")\n",
    "print(f\"Target projection season: {TARGET_PROJECTION_SEASON}\")\n",
    "print(f\"Validation folds: {VALIDATION_SPLITS}\")\n",
    "print(\"\\n“ Modules imported and configuration set\")"
   ]
  },
  {
   "cell_type": "code",
   "execution_count": 2,
   "metadata": {},
   "outputs": [
    {
     "name": "stdout",
     "output_type": "stream",
     "text": [
      "CELL 2: DATA LOADING AND MODEL TRAINING\n",
      "==================================================\n",
      "Zero-sum WAR constraints ENABLED\n",
      "Dynasty Guru age curves ENABLED\n",
      "\n",
      "1. Loading complete dataset...\n",
      "SYSTEM 2: Loading complete dataset...\n",
      "==================================================\n",
      "  Loading FanGraphs hitters data...\n",
      "    Loaded 5760 hitters player-seasons from 9 years\n",
      "  Loading BP hitters data...\n",
      "    Loaded 6503 hitters player-seasons from 9 years\n",
      "  Loading FanGraphs pitchers data...\n",
      "    Loaded 7237 pitchers player-seasons from 9 years\n",
      "  Loading BP pitchers data...\n",
      "    Loaded 7345 pitchers player-seasons from 9 years\n",
      "  Filling missing Age data from BP records...\n",
      "    Filled Age for 12982/12997 WAR records from WARP data\n",
      "      Primary matches (mlbid): 12981\n",
      "      Fallback matches (name): 1\n",
      "    15 WAR records still missing Age (no matching WARP record)\n",
      "  Adding position data from FanGraphs defensive files...\n",
      "    Filled Position for 26642/26845 records from defensive data\n",
      "    203 records still missing Position (no matching defensive record)\n",
      "  Loading expected stats from Statcast data...\n",
      "    Loaded expected stats: 14896 player-seasons\n",
      "    Expected stats coverage:\n",
      "      xBA: 43203/43549 (99.2%)\n",
      "      xSLG: 43203/43549 (99.2%)\n",
      "Complete dataset loaded: 43549 records\n",
      "  Years: 2016-2024\n",
      "  Players: 3537 unique\n",
      "  Data sources: {'WARP': 22258, 'WAR': 21291}\n",
      "\n",
      "2. Preparing projection features...\n",
      "\n",
      "Preparing projection features...\n",
      "  Adding default regression factor...\n",
      "Projection features prepared for 43549 records\n",
      "\n",
      "3. Preparing training data...\n",
      "\n",
      "Preparing training data...\n",
      "  Dropped 49 incomplete records (see dropped_players_log.txt)\n",
      "Training data prepared: 43284 records\n",
      "  Age range: 19.0-45.0\n",
      "  Target metric range: -1.1-11.3\n",
      "  Seasons: 2016-2024\n",
      "  Data sources: WAR=21093, WARP=22191\n",
      "\n",
      "4. Training joint longitudinal-survival model...\n",
      "\n",
      "Training separate confidence-aware WAR and WARP projection models...\n",
      "  WAR training data: 21093 records\n",
      "  WARP training data: 22191 records\n",
      "Fitting confidence-aware joint longitudinal-survival model for future projections...\n",
      "Preparing longitudinal data with confidence features for year-to-year WAR prediction...\n",
      "  Valid year-to-year transitions: 8439\n",
      "  Transitions with NaN features: 0\n",
      "  Transitions with NaN targets: 0\n",
      "  Final training examples: 8439\n",
      "Longitudinal data prepared: 8439 training examples, 18 features\n",
      "Preparing survival data for retirement risk modeling (full data through 2024)...\n",
      "Survival data prepared: 3516 observations, 2085 retirement events\n",
      "  Event rate: 0.593\n",
      "  Censored (active): 1431\n",
      "Fitting confidence-aware year-to-year performance trajectory model...\n",
      "   Training samples: 8439\n",
      "   Features: 18 (includes confidence features)\n",
      "   Target shape: (8439,)\n",
      "   Confidence-aware year-to-year prediction performance:\n",
      "     R² = 0.600\n",
      "     RMSE = 0.909\n",
      "     MAE = 0.662\n",
      "   Confidence feature importance: 0.354\n",
      "   Elite tier indicators importance: 0.016\n",
      "Fitting retirement hazard model...\n",
      "   Validating survival data: 3516 observations, 2085 events\n",
      "   Duration range: 1 - 9\n",
      "   Event rate: 0.593\n",
      "   Cox PH model fitted successfully\n",
      "   Concordance index: 0.809\n",
      "Confidence-aware joint model fitting complete!\n",
      "Fitting confidence-aware joint longitudinal-survival model for future projections...\n",
      "Preparing longitudinal data with confidence features for year-to-year WAR prediction...\n",
      "  Valid year-to-year transitions: 8530\n",
      "  Transitions with NaN features: 0\n",
      "  Transitions with NaN targets: 0\n",
      "  Final training examples: 8530\n",
      "Longitudinal data prepared: 8530 training examples, 18 features\n",
      "Preparing survival data for retirement risk modeling (full data through 2024)...\n",
      "Survival data prepared: 3531 observations, 2090 retirement events\n",
      "  Event rate: 0.592\n",
      "  Censored (active): 1441\n",
      "Fitting confidence-aware year-to-year performance trajectory model...\n",
      "   Training samples: 8530\n",
      "   Features: 18 (includes confidence features)\n",
      "   Target shape: (8530,)\n",
      "   Confidence-aware year-to-year prediction performance:\n",
      "     R² = 0.642\n",
      "     RMSE = 0.722\n",
      "     MAE = 0.493\n",
      "   Confidence feature importance: 0.539\n",
      "   Elite tier indicators importance: 0.020\n",
      "Fitting retirement hazard model...\n",
      "   Validating survival data: 3531 observations, 2090 events\n",
      "   Duration range: 1 - 9\n",
      "   Event rate: 0.592\n",
      "   Cox PH model fitted successfully\n",
      "   Concordance index: 0.802\n",
      "Confidence-aware joint model fitting complete!\n",
      "Confidence-aware separate model training complete!\n",
      "\n",
      "==================================================\n",
      "TRAINING RESULTS\n",
      "==================================================\n",
      "\n",
      "WAR Model Performance:\n",
      "  Longitudinal Model (Year-to-year prediction):\n",
      "    r2: 0.600\n",
      "    rmse: 0.909\n",
      "    mae: 0.662\n",
      "  Survival Model (Retirement risk):\n",
      "    concordance_index: 0.809\n",
      "    n_observations: 3516.000\n",
      "    n_events: 2085.000\n",
      "  Training samples: 8439\n",
      "  Survival observations: 3516\n",
      "\n",
      "WARP Model Performance:\n",
      "  Longitudinal Model (Year-to-year prediction):\n",
      "    r2: 0.642\n",
      "    rmse: 0.722\n",
      "    mae: 0.493\n",
      "  Survival Model (Retirement risk):\n",
      "    concordance_index: 0.802\n",
      "    n_observations: 3531.000\n",
      "    n_events: 2090.000\n",
      "  Training samples: 8530\n",
      "  Survival observations: 3531\n",
      "\n",
      "Model training complete!\n",
      "  Dataset: 43284 records, 3534 players\n",
      "  Season range: 2016-2024\n",
      "  Separate model architecture: WAR and WARP trained independently\n",
      "  Iterative projection approach: 3 years using year-to-year transitions\n",
      "  Zero-sum constraints: ENABLED - total WAR will equal 1000\n"
     ]
    }
   ],
   "source": [
    "# Cell 2: Data Loading and Model Training\n",
    "# =====================================\n",
    "\n",
    "print(\"CELL 2: DATA LOADING AND MODEL TRAINING\")\n",
    "print(\"=\" * 50)\n",
    "\n",
    "# Initialize SYSTEM 2 pipeline with zero-sum constraints enabled\n",
    "pipeline = System2Pipeline(\n",
    "    bp_data_path=BP_DATA_PATH,\n",
    "    fg_data_path=FG_DATA_PATH,\n",
    "    max_projection_years=MAX_PROJECTION_YEARS,\n",
    "    use_dynasty_guru=True,        # Enhanced age curves\n",
    "    use_zero_sum_constraint=True  # Zero-sum WAR constraints\n",
    ")\n",
    "\n",
    "print(\"Zero-sum WAR constraints ENABLED\")\n",
    "print(\"Dynasty Guru age curves ENABLED\")\n",
    "\n",
    "# Step 1: Load complete dataset\n",
    "print(\"\\n1. Loading complete dataset...\")\n",
    "raw_data = pipeline.load_complete_dataset(\n",
    "    years=ANALYSIS_YEARS,\n",
    "    player_types=['hitters', 'pitchers']\n",
    ")\n",
    "\n",
    "# Step 2: Prepare projection features\n",
    "print(\"\\n2. Preparing projection features...\")\n",
    "processed_data = pipeline.prepare_projection_features(raw_data)\n",
    "\n",
    "# Step 3: Prepare training data\n",
    "print(\"\\n3. Preparing training data...\")\n",
    "training_data = pipeline.prepare_training_data(processed_data)\n",
    "\n",
    "# Step 4: Train joint longitudinal-survival model\n",
    "print(\"\\n4. Training joint longitudinal-survival model...\")\n",
    "training_metrics = pipeline.train_projection_model(training_data)\n",
    "\n",
    "# Display training results\n",
    "print(\"\\n\" + \"=\" * 50)\n",
    "print(\"TRAINING RESULTS\")\n",
    "print(\"=\" * 50)\n",
    "\n",
    "# Display WAR model results\n",
    "if hasattr(pipeline, 'war_model') and pipeline.war_model is not None:\n",
    "    print(\"\\nWAR Model Performance:\")\n",
    "    if 'war_model' in training_metrics:\n",
    "        war_metrics = training_metrics['war_model']\n",
    "        if 'longitudinal_performance' in war_metrics:\n",
    "            print(\"  Longitudinal Model (Year-to-year prediction):\")\n",
    "            for metric, value in war_metrics['longitudinal_performance'].items():\n",
    "                if not np.isnan(value):\n",
    "                    print(f\"    {metric}: {value:.3f}\")\n",
    "        \n",
    "        if 'survival_performance' in war_metrics:\n",
    "            print(\"  Survival Model (Retirement risk):\")\n",
    "            for metric, value in war_metrics['survival_performance'].items():\n",
    "                if not np.isnan(value):\n",
    "                    print(f\"    {metric}: {value:.3f}\")\n",
    "        \n",
    "        print(f\"  Training samples: {war_metrics.get('training_samples', 'N/A')}\")\n",
    "        print(f\"  Survival observations: {war_metrics.get('survival_observations', 'N/A')}\")\n",
    "else:\n",
    "    print(\"\\nWAR Model: Not trained (insufficient data)\")\n",
    "\n",
    "# Display WARP model results  \n",
    "if hasattr(pipeline, 'warp_model') and pipeline.warp_model is not None:\n",
    "    print(\"\\nWARP Model Performance:\")\n",
    "    if 'warp_model' in training_metrics:\n",
    "        warp_metrics = training_metrics['warp_model']\n",
    "        if 'longitudinal_performance' in warp_metrics:\n",
    "            print(\"  Longitudinal Model (Year-to-year prediction):\")\n",
    "            for metric, value in warp_metrics['longitudinal_performance'].items():\n",
    "                if not np.isnan(value):\n",
    "                    print(f\"    {metric}: {value:.3f}\")\n",
    "        \n",
    "        if 'survival_performance' in warp_metrics:\n",
    "            print(\"  Survival Model (Retirement risk):\")\n",
    "            for metric, value in warp_metrics['survival_performance'].items():\n",
    "                if not np.isnan(value):\n",
    "                    print(f\"    {metric}: {value:.3f}\")\n",
    "        \n",
    "        print(f\"  Training samples: {warp_metrics.get('training_samples', 'N/A')}\")\n",
    "        print(f\"  Survival observations: {warp_metrics.get('survival_observations', 'N/A')}\")\n",
    "else:\n",
    "    print(\"\\nWARP Model: Not trained (insufficient data)\")\n",
    "\n",
    "# Save training results\n",
    "training_summary = {\n",
    "    'data_records': len(training_data),\n",
    "    'unique_players': training_data['mlbid'].nunique(),\n",
    "    'season_range': f\"{training_data['Season'].min()}-{training_data['Season'].max()}\",\n",
    "    'training_metrics': training_metrics\n",
    "}\n",
    "\n",
    "print(f\"\\nModel training complete!\")\n",
    "print(f\"  Dataset: {training_summary['data_records']} records, {training_summary['unique_players']} players\")\n",
    "print(f\"  Season range: {training_summary['season_range']}\")\n",
    "print(f\"  Separate model architecture: WAR and WARP trained independently\")\n",
    "print(f\"  Iterative projection approach: {MAX_PROJECTION_YEARS} years using year-to-year transitions\")\n",
    "print(f\"  Zero-sum constraints: ENABLED - total WAR will equal 1000\")"
   ]
  },
  {
   "cell_type": "code",
   "execution_count": 3,
   "metadata": {},
   "outputs": [
    {
     "name": "stdout",
     "output_type": "stream",
     "text": [
      "CELL 3: MODEL VALIDATION AND PERFORMANCE METRICS\n",
      "==================================================\n",
      "\n",
      "Performing 5-fold temporal cross-validation...\n",
      "\n",
      "Validating both models with 5-fold temporal cross-validation...\n",
      "Validating WAR model...\n",
      "Validating joint model with 5-fold temporal cross-validation...\n",
      "Creating 5 temporal splits:\n",
      "  Total seasons: 9 (2016-2024)\n",
      "  Min training seasons: 3\n",
      "  Fold 1: Train 2016-2018 → Val 2019-2019 (6682 → 2422 records)\n",
      "\n",
      "Validating fold 1/5...\n",
      "Preparing survival data for temporal validation (cutoff: 2018)...\n",
      "Survival data prepared: 1941 observations, 579 retirement events\n",
      "  Event rate: 0.298\n",
      "  Censored (active): 1362\n",
      "  Fold 2: Train 2016-2019 → Val 2020-2020 (9104 → 1914 records)\n",
      "\n",
      "Validating fold 2/5...\n",
      "Preparing survival data for temporal validation (cutoff: 2019)...\n",
      "Survival data prepared: 2210 observations, 819 retirement events\n",
      "  Event rate: 0.371\n",
      "  Censored (active): 1391\n",
      "  Fold 3: Train 2016-2020 → Val 2021-2021 (11018 → 2606 records)\n",
      "\n",
      "Validating fold 3/5...\n",
      "Preparing survival data for temporal validation (cutoff: 2020)...\n",
      "Survival data prepared: 2419 observations, 1146 retirement events\n",
      "  Event rate: 0.474\n",
      "  Censored (active): 1273\n",
      "  Fold 4: Train 2016-2021 → Val 2022-2022 (13624 → 2623 records)\n",
      "\n",
      "Validating fold 4/5...\n",
      "Preparing survival data for temporal validation (cutoff: 2021)...\n",
      "Survival data prepared: 2696 observations, 1204 retirement events\n",
      "  Event rate: 0.447\n",
      "  Censored (active): 1492\n",
      "  Fold 5: Train 2016-2022 → Val 2023-2023 (16247 → 2465 records)\n",
      "\n",
      "Validating fold 5/5...\n",
      "Preparing survival data for temporal validation (cutoff: 2022)...\n",
      "Survival data prepared: 2998 observations, 1523 retirement events\n",
      "  Event rate: 0.508\n",
      "  Censored (active): 1475\n",
      "\n",
      "Cross-validation complete!\n",
      "==================================================\n",
      "VALIDATION SUMMARY\n",
      "==================================================\n",
      "\n",
      "Longitudinal Model Performance:\n",
      "  R2: 0.111 ± 0.503\n",
      "  RMSE: 1.135 ± 0.119\n",
      "  MAE: 0.793 ± 0.082\n",
      "\n",
      "Survival Model Performance:\n",
      "  concordance_index: 0.802 ± 0.034\n",
      "\n",
      "Validation completed across 5 temporal folds\n",
      "Validating WARP model...\n",
      "Validating joint model with 5-fold temporal cross-validation...\n",
      "Creating 5 temporal splits:\n",
      "  Total seasons: 9 (2016-2024)\n",
      "  Min training seasons: 3\n",
      "  Fold 1: Train 2016-2018 → Val 2019-2019 (6793 → 2827 records)\n",
      "\n",
      "Validating fold 1/5...\n",
      "Preparing survival data for temporal validation (cutoff: 2018)...\n",
      "Survival data prepared: 1953 observations, 581 retirement events\n",
      "  Event rate: 0.297\n",
      "  Censored (active): 1372\n",
      "  Fold 2: Train 2016-2019 → Val 2020-2020 (9620 → 1951 records)\n",
      "\n",
      "Validating fold 2/5...\n",
      "Preparing survival data for temporal validation (cutoff: 2019)...\n",
      "Survival data prepared: 2224 observations, 817 retirement events\n",
      "  Event rate: 0.367\n",
      "  Censored (active): 1407\n",
      "  Fold 3: Train 2016-2020 → Val 2021-2021 (11571 → 3061 records)\n",
      "\n",
      "Validating fold 3/5...\n",
      "Preparing survival data for temporal validation (cutoff: 2020)...\n",
      "Survival data prepared: 2439 observations, 1154 retirement events\n",
      "  Event rate: 0.473\n",
      "  Censored (active): 1285\n",
      "  Fold 4: Train 2016-2021 → Val 2022-2022 (14632 → 2649 records)\n",
      "\n",
      "Validating fold 4/5...\n",
      "Preparing survival data for temporal validation (cutoff: 2021)...\n",
      "Survival data prepared: 2709 observations, 1208 retirement events\n",
      "  Event rate: 0.446\n",
      "  Censored (active): 1501\n",
      "  Fold 5: Train 2016-2022 → Val 2023-2023 (17281 → 2512 records)\n",
      "\n",
      "Validating fold 5/5...\n",
      "Preparing survival data for temporal validation (cutoff: 2022)...\n",
      "Survival data prepared: 3013 observations, 1533 retirement events\n",
      "  Event rate: 0.509\n",
      "  Censored (active): 1480\n",
      "\n",
      "Cross-validation complete!\n",
      "==================================================\n",
      "VALIDATION SUMMARY\n",
      "==================================================\n",
      "\n",
      "Longitudinal Model Performance:\n",
      "  R2: -0.146 ± 1.009\n",
      "  RMSE: 0.952 ± 0.144\n",
      "  MAE: 0.623 ± 0.081\n",
      "\n",
      "Survival Model Performance:\n",
      "  concordance_index: 0.800 ± 0.044\n",
      "\n",
      "Validation completed across 5 temporal folds\n",
      "Model validation complete!\n",
      "\n",
      "==================================================\n",
      "CROSS-VALIDATION RESULTS\n",
      "==================================================\n",
      "\n",
      "WAR Model Cross-Validation:\n",
      "  Longitudinal Model Performance:\n",
      "    R2: 0.111 ± 0.503 (range: -0.885-0.422)\n",
      "    RMSE: 1.135 ± 0.119 (range: 0.958-1.305)\n",
      "    MAE: 0.793 ± 0.082 (range: 0.659-0.891)\n",
      "  Survival Model Performance:\n",
      "    concordance_index: 0.802 ± 0.034 (range: 0.753-0.844)\n",
      "\n",
      "WARP Model Cross-Validation:\n",
      "  Longitudinal Model Performance:\n",
      "    R2: -0.146 ± 1.009 (range: -2.148-0.503)\n",
      "    RMSE: 0.952 ± 0.144 (range: 0.806-1.200)\n",
      "    MAE: 0.623 ± 0.081 (range: 0.528-0.737)\n",
      "  Survival Model Performance:\n",
      "    concordance_index: 0.800 ± 0.044 (range: 0.733-0.860)\n",
      "\n",
      "------------------------------\n",
      "PERFORMANCE ASSESSMENT\n",
      "------------------------------\n",
      "\n",
      "WAR Model Assessment:\n",
      "  Longitudinal R²: 0.111 - FAIR - Moderate predictive power\n",
      "  Longitudinal RMSE: 1.135 - FAIR - Moderate prediction error\n",
      "  Survival C-Index: 0.802 - GOOD - Strong discrimination\n",
      "\n",
      "WARP Model Assessment:\n",
      "  Longitudinal R²: -0.146 - POOR - Limited predictive power\n",
      "  Longitudinal RMSE: 0.952 - GOOD - Low prediction error\n",
      "  Survival C-Index: 0.800 - GOOD - Strong discrimination\n",
      "Validation report saved to validation_report.csv\n",
      "\n",
      "Model validation complete!\n",
      "  Validation folds: 5\n",
      "  Detailed report saved: validation_report.csv\n",
      "\n",
      "WARNING: WAR Longitudinal R² very low - consider model improvements\n",
      "Model saved to system2_future_projections_model.pkl\n",
      "Model saved to: system2_future_projections_model.pkl\n"
     ]
    }
   ],
   "source": [
    "# Cell 3: Model Validation and Performance Metrics\n",
    "# ===============================================\n",
    "\n",
    "print(\"CELL 3: MODEL VALIDATION AND PERFORMANCE METRICS\")\n",
    "print(\"=\" * 50)\n",
    "\n",
    "# Perform temporal cross-validation\n",
    "print(f\"\\nPerforming {VALIDATION_SPLITS}-fold temporal cross-validation...\")\n",
    "validation_results = pipeline.validate_model(training_data, VALIDATION_SPLITS)\n",
    "\n",
    "# Display validation results\n",
    "print(\"\\n\" + \"=\" * 50)\n",
    "print(\"CROSS-VALIDATION RESULTS\")\n",
    "print(\"=\" * 50)\n",
    "\n",
    "# Display WAR model validation results\n",
    "if 'war_model_validation' in validation_results:\n",
    "    print(\"\\nWAR Model Cross-Validation:\")\n",
    "    war_val = validation_results['war_model_validation']\n",
    "    \n",
    "    if 'longitudinal_performance' in war_val:\n",
    "        print(\"  Longitudinal Model Performance:\")\n",
    "        long_perf = war_val['longitudinal_performance']\n",
    "        for metric, stats in long_perf.items():\n",
    "            print(f\"    {metric.upper()}: {stats['mean']:.3f} ± {stats['std']:.3f} \"\n",
    "                  f\"(range: {stats['min']:.3f}-{stats['max']:.3f})\")\n",
    "\n",
    "    if 'survival_performance' in war_val:\n",
    "        print(\"  Survival Model Performance:\")\n",
    "        surv_perf = war_val['survival_performance']\n",
    "        for metric, stats in surv_perf.items():\n",
    "            print(f\"    {metric}: {stats['mean']:.3f} ± {stats['std']:.3f} \"\n",
    "                  f\"(range: {stats['min']:.3f}-{stats['max']:.3f})\")\n",
    "\n",
    "# Display WARP model validation results\n",
    "if 'warp_model_validation' in validation_results:\n",
    "    print(\"\\nWARP Model Cross-Validation:\")\n",
    "    warp_val = validation_results['warp_model_validation']\n",
    "    \n",
    "    if 'longitudinal_performance' in warp_val:\n",
    "        print(\"  Longitudinal Model Performance:\")\n",
    "        long_perf = warp_val['longitudinal_performance']\n",
    "        for metric, stats in long_perf.items():\n",
    "            print(f\"    {metric.upper()}: {stats['mean']:.3f} ± {stats['std']:.3f} \"\n",
    "                  f\"(range: {stats['min']:.3f}-{stats['max']:.3f})\")\n",
    "\n",
    "    if 'survival_performance' in warp_val:\n",
    "        print(\"  Survival Model Performance:\")\n",
    "        surv_perf = warp_val['survival_performance']\n",
    "        for metric, stats in surv_perf.items():\n",
    "            print(f\"    {metric}: {stats['mean']:.3f} ± {stats['std']:.3f} \"\n",
    "                  f\"(range: {stats['min']:.3f}-{stats['max']:.3f})\")\n",
    "\n",
    "# Combined assessment for backward compatibility\n",
    "print(\"\\n\" + \"-\" * 30)\n",
    "print(\"PERFORMANCE ASSESSMENT\")\n",
    "print(\"-\" * 30)\n",
    "\n",
    "# Assess performance for each model\n",
    "for model_name, model_key in [('WAR', 'war_model_validation'), ('WARP', 'warp_model_validation')]:\n",
    "    if model_key in validation_results:\n",
    "        val_results = validation_results[model_key]\n",
    "        print(f\"\\n{model_name} Model Assessment:\")\n",
    "        \n",
    "        if 'longitudinal_performance' in val_results:\n",
    "            long_perf = val_results['longitudinal_performance']\n",
    "            \n",
    "            if 'r2' in long_perf:\n",
    "                r2_mean = long_perf['r2']['mean']\n",
    "                if r2_mean > 0.15:\n",
    "                    r2_assessment = \"GOOD - Strong predictive power\"\n",
    "                elif r2_mean > 0.08:\n",
    "                    r2_assessment = \"FAIR - Moderate predictive power\"\n",
    "                else:\n",
    "                    r2_assessment = \"POOR - Limited predictive power\"\n",
    "                print(f\"  Longitudinal R²: {r2_mean:.3f} - {r2_assessment}\")\n",
    "            \n",
    "            if 'rmse' in long_perf:\n",
    "                rmse_mean = long_perf['rmse']['mean']\n",
    "                if rmse_mean < 1.0:\n",
    "                    rmse_assessment = \"GOOD - Low prediction error\"\n",
    "                elif rmse_mean < 1.5:\n",
    "                    rmse_assessment = \"FAIR - Moderate prediction error\"\n",
    "                else:\n",
    "                    rmse_assessment = \"POOR - High prediction error\"\n",
    "                print(f\"  Longitudinal RMSE: {rmse_mean:.3f} - {rmse_assessment}\")\n",
    "\n",
    "        if 'survival_performance' in val_results:\n",
    "            surv_perf = val_results['survival_performance']\n",
    "            \n",
    "            if 'concordance_index' in surv_perf:\n",
    "                c_index_mean = surv_perf['concordance_index']['mean']\n",
    "                if c_index_mean > 0.75:\n",
    "                    c_assessment = \"GOOD - Strong discrimination\"\n",
    "                elif c_index_mean > 0.65:\n",
    "                    c_assessment = \"FAIR - Moderate discrimination\"\n",
    "                else:\n",
    "                    c_assessment = \"POOR - Limited discrimination\"\n",
    "                print(f\"  Survival C-Index: {c_index_mean:.3f} - {c_assessment}\")\n",
    "\n",
    "# Generate detailed validation report\n",
    "validation_report = pipeline.validator.generate_validation_report(\"validation_report.csv\")\n",
    "\n",
    "print(f\"\\nModel validation complete!\")\n",
    "print(f\"  Validation folds: {validation_results.get('n_folds', 'N/A')}\")\n",
    "print(f\"  Detailed report saved: validation_report.csv\")\n",
    "\n",
    "# Save model if performance is acceptable\n",
    "save_model = True\n",
    "\n",
    "# Check if model performance meets minimum thresholds for both models\n",
    "for model_key in ['war_model_validation', 'warp_model_validation']:\n",
    "    if model_key in validation_results:\n",
    "        val_results = validation_results[model_key]\n",
    "        if 'longitudinal_performance' in val_results:\n",
    "            long_perf = val_results['longitudinal_performance']\n",
    "            if 'r2' in long_perf and long_perf['r2']['mean'] < 0.02:\n",
    "                model_name = 'WAR' if 'war' in model_key else 'WARP'\n",
    "                print(f\"\\nWARNING: {model_name} Longitudinal R² very low - consider model improvements\")\n",
    "\n",
    "if save_model:\n",
    "    pipeline.projection_model.save_model(MODEL_SAVE_PATH)\n",
    "    print(f\"Model saved to: {MODEL_SAVE_PATH}\")"
   ]
  },
  {
   "cell_type": "code",
   "execution_count": 4,
   "metadata": {},
   "outputs": [
    {
     "name": "stdout",
     "output_type": "stream",
     "text": [
      "CELL 4: FUTURE PLAYER PROJECTIONS GENERATION\n",
      "==================================================\n",
      "\n",
      "Generating 3-year projections from 2024...\n",
      "\n",
      "Generating 3-year projections from 2024...\n",
      "Projections generated for 1442 players\n",
      "\n",
      "Applying elite player adjustments...\n",
      "Applying elite player adjustments...\n",
      "\n",
      "Elite Player Adjustment Summary:\n",
      "  Total players: 1442\n",
      "  Elite players adjusted: 10.0\n",
      "  Very good players adjusted: 17.0\n",
      "  Good players adjusted: 178.0\n",
      "  No adjustment needed: 1237\n",
      "  Mean adjustment: 0.024 WAR\n",
      "  Max adjustment: 3.050 WAR\n",
      "  Min adjustment: -1.770 WAR\n",
      "\n",
      "  Top 5 Elite Adjustments:\n",
      "    Aaron Judge (elite): +3.05 WAR (confidence: 4.8)\n",
      "    Bobby Witt Jr. (elite): +2.72 WAR (confidence: 4.6)\n",
      "    Shohei Ohtani (elite): +1.77 WAR (confidence: 5.1)\n",
      "    Ronald Acuña Jr. (elite): +1.77 WAR (confidence: 5.1)\n",
      "    Mike Trout (elite): +1.75 WAR (confidence: 4.8)\n",
      "\n",
      "Injury modeling enabled but no injury data loaded - skipping injury adjustments\n",
      "\n",
      "Applying zero-sum WAR constraint optimization...\n",
      "Applying zero-sum WAR constraint optimization...\n",
      "  Hitters: 649 players\n",
      "  Pitchers: 793 players\n",
      "    Optimizing group: 544.4 -> 570.0\n",
      "    Optimization successful: final total = 570.0\n",
      "    Group already close to target (418.2 vs 430.0), minimal adjustment\n",
      "  Constraint adjustment summary:\n",
      "    Original total WAR: 962.5\n",
      "    Adjusted total WAR: 988.2\n",
      "    Mean adjustment: 0.018\n",
      "    Adjustment std: 0.056\n",
      "    Max positive adjustment: 1.374\n",
      "    Max negative adjustment: -1.187\n",
      "    Largest positive adjustment: Martín Maldonado (0.3 -> 1.6, +1.4)\n",
      "    Largest negative adjustment: José Abreu (0.7 -> 0.1, -0.6)\n",
      "WAR total adjustment: 962.5 -> 988.2\n",
      "WARP total adjustment: 1014.9 -> 1014.9\n",
      "\n",
      "ZERO-SUM CONSTRAINT VALIDATION:\n",
      "----------------------------------------\n",
      "Total WAR: 988.2 (target: 1000.0)\n",
      "Hitter WAR: 570.0 (target: 570.0)\n",
      "Pitcher WAR: 418.2 (target: 430.0)\n",
      "Total constraint satisfied: True\n",
      "Hitter constraint satisfied: True\n",
      "Pitcher constraint satisfied: True\n",
      "CONSTRAINT VALIDATION: PASSED - All constraints satisfied\n",
      "\n",
      "==================================================\n",
      "PROJECTION SUMMARY\n",
      "==================================================\n",
      "Total players projected: 1442\n",
      "Age range: 20-44\n",
      "Position distribution:\n",
      "  P: 793\n",
      "  1B: 167\n",
      "  2B: 128\n",
      "  CF: 124\n",
      "  C: 82\n",
      "  LF: 54\n",
      "  3B: 35\n",
      "  SS: 29\n",
      "  RF: 19\n",
      "  OF: 11\n",
      "\n",
      "WAR Projection statistics:\n",
      "  1: Mean=0.69, Std=0.90, Range=[-0.25, 7.93]\n",
      "  2: Mean=0.61, Std=0.84, Range=[-0.20, 6.92]\n",
      "  3: Mean=0.54, Std=0.79, Range=[-0.11, 7.03]\n",
      "\n",
      "WARP Projection statistics:\n",
      "  1: Mean=0.70, Std=0.87, Range=[-0.03, 7.59]\n",
      "  2: Mean=0.66, Std=0.80, Range=[-0.02, 7.23]\n",
      "  3: Mean=0.65, Std=0.72, Range=[0.01, 7.26]\n",
      "\n",
      "------------------------------\n",
      "FEATURED PLAYER PROJECTIONS\n",
      "------------------------------\n",
      "\n",
      "Mike Trout (Age 32, CF):\n",
      "  Current WAR (2024): 0.9\n",
      "  Current WARP (2024): 1.0\n",
      "  WAR Projections:\n",
      "    2025: 2.2\n",
      "    2026: 3.5\n",
      "    2027: 3.2\n",
      "  WARP Projections:\n",
      "    2025: 1.8\n",
      "    2026: 2.3\n",
      "    2027: 2.0\n",
      "\n",
      "Shohei Ohtani (Age 29, OF):\n",
      "  Current WAR (2024): 9.0\n",
      "  Current WARP (2024): 8.3\n",
      "  WAR Projections:\n",
      "    2025: 6.5\n",
      "    2026: 6.4\n",
      "    2027: 6.2\n",
      "  WARP Projections:\n",
      "    2025: 6.7\n",
      "    2026: 6.4\n",
      "    2027: 5.9\n",
      "\n",
      "Ronald Acuña Jr. (Age 26, RF):\n",
      "  Current WAR (2024): 0.9\n",
      "  Current WARP (2024): 0.7\n",
      "  WAR Projections:\n",
      "    2025: 2.8\n",
      "    2026: 3.7\n",
      "    2027: 3.3\n",
      "  WARP Projections:\n",
      "    2025: 3.2\n",
      "    2026: 3.4\n",
      "    2027: 3.4\n",
      "\n",
      "Mookie Betts (Age 31, 2B):\n",
      "  Current WAR (2024): 4.3\n",
      "  Current WARP (2024): 3.0\n",
      "  WAR Projections:\n",
      "    2025: 3.9\n",
      "    2026: 4.0\n",
      "    2027: 4.0\n",
      "  WARP Projections:\n",
      "    2025: 2.9\n",
      "    2026: 2.9\n",
      "    2027: 3.0\n",
      "\n",
      "Aaron Judge (Age 32, CF):\n",
      "  Current WAR (2024): 11.3\n",
      "  Current WARP (2024): 11.1\n",
      "  WAR Projections:\n",
      "    2025: 7.6\n",
      "    2026: 6.9\n",
      "    2027: 7.0\n",
      "  WARP Projections:\n",
      "    2025: 7.4\n",
      "    2026: 7.1\n",
      "    2027: 6.7\n",
      "\n",
      "Juan Soto (Age 25, LF):\n",
      "  Current WAR (2024): 8.3\n",
      "  Current WARP (2024): 9.0\n",
      "  WAR Projections:\n",
      "    2025: 6.3\n",
      "    2026: 6.1\n",
      "    2027: 6.6\n",
      "  WARP Projections:\n",
      "    2025: 7.6\n",
      "    2026: 7.2\n",
      "    2027: 7.3\n",
      "\n",
      "Projections generation complete!\n",
      "  Total projections: 1442\n",
      "  Featured players: 6\n",
      "  Results saved to: future_projections_2024.csv\n",
      "\n",
      "Projection quality check:\n",
      "  Players with WAR data: 1431/1442 (99.2%)\n",
      "  Valid WAR projections: 1442/1431 (100.8%)\n",
      "  Reasonable WAR projections: 1442/1442 (100.0%)\n",
      "  Players with WARP data: 1440/1442 (99.9%)\n",
      "  Valid WARP projections: 1442/1440 (100.1%)\n",
      "WAR projection quality looks good\n",
      "WARP projection quality looks good\n"
     ]
    }
   ],
   "source": [
    "# Cell 4: Future Player Projections Generation\n",
    "# ===========================================\n",
    "\n",
    "print(\"CELL 4: FUTURE PLAYER PROJECTIONS GENERATION\")\n",
    "print(\"=\" * 50)\n",
    "\n",
    "# Generate batch projections for all eligible players\n",
    "print(f\"\\nGenerating {MAX_PROJECTION_YEARS}-year projections from {TARGET_PROJECTION_SEASON}...\")\n",
    "\n",
    "batch_projections = pipeline.batch_generate_projections(\n",
    "    target_season=TARGET_PROJECTION_SEASON,\n",
    "    years_ahead=MAX_PROJECTION_YEARS,\n",
    "    min_career_length=2\n",
    ")\n",
    "\n",
    "# Validate zero-sum constraints if enabled\n",
    "if pipeline.use_zero_sum_constraint:\n",
    "    print(f\"\\nZERO-SUM CONSTRAINT VALIDATION:\")\n",
    "    print(\"-\" * 40)\n",
    "    \n",
    "    total_war = batch_projections['projected_WAR_year_1'].sum()\n",
    "    hitter_war = batch_projections[batch_projections['Position'] != 'P']['projected_WAR_year_1'].sum()\n",
    "    pitcher_war = batch_projections[batch_projections['Position'] == 'P']['projected_WAR_year_1'].sum()\n",
    "    \n",
    "    print(f\"Total WAR: {total_war:.1f} (target: 1000.0)\")\n",
    "    print(f\"Hitter WAR: {hitter_war:.1f} (target: 570.0)\")  \n",
    "    print(f\"Pitcher WAR: {pitcher_war:.1f} (target: 430.0)\")\n",
    "    \n",
    "    total_constraint_met = abs(total_war - 1000.0) < 25.0\n",
    "    hitter_constraint_met = abs(hitter_war - 570.0) < 25.0\n",
    "    pitcher_constraint_met = abs(pitcher_war - 430.0) < 25.0\n",
    "    \n",
    "    print(f\"Total constraint satisfied: {total_constraint_met}\")\n",
    "    print(f\"Hitter constraint satisfied: {hitter_constraint_met}\")\n",
    "    print(f\"Pitcher constraint satisfied: {pitcher_constraint_met}\")\n",
    "    \n",
    "    if all([total_constraint_met, hitter_constraint_met, pitcher_constraint_met]):\n",
    "        print(\"CONSTRAINT VALIDATION: PASSED - All constraints satisfied\")\n",
    "    else:\n",
    "        print(\"CONSTRAINT VALIDATION: FAILED - Check constraint implementation\")\n",
    "\n",
    "# Display projection summary\n",
    "print(\"\\n\" + \"=\" * 50)\n",
    "print(\"PROJECTION SUMMARY\")\n",
    "print(\"=\" * 50)\n",
    "\n",
    "print(f\"Total players projected: {len(batch_projections)}\")\n",
    "print(f\"Age range: {batch_projections['Age'].min():.0f}-{batch_projections['Age'].max():.0f}\")\n",
    "print(f\"Position distribution:\")\n",
    "position_counts = batch_projections['Position'].value_counts()\n",
    "for pos, count in position_counts.head(10).items():\n",
    "    print(f\"  {pos}: {count}\")\n",
    "\n",
    "# Show projection statistics for both WAR and WARP\n",
    "war_projection_cols = [col for col in batch_projections.columns if col.startswith('projected_WAR_')]\n",
    "warp_projection_cols = [col for col in batch_projections.columns if col.startswith('projected_WARP_')]\n",
    "\n",
    "print(f\"\\nWAR Projection statistics:\")\n",
    "for col in war_projection_cols:\n",
    "    year = col.split('_')[-1]\n",
    "    values = batch_projections[col].dropna()\n",
    "    if len(values) > 0:\n",
    "        print(f\"  {year}: Mean={values.mean():.2f}, Std={values.std():.2f}, \"\n",
    "              f\"Range=[{values.min():.2f}, {values.max():.2f}]\")\n",
    "\n",
    "print(f\"\\nWARP Projection statistics:\")\n",
    "for col in warp_projection_cols:\n",
    "    year = col.split('_')[-1]\n",
    "    values = batch_projections[col].dropna()\n",
    "    if len(values) > 0:\n",
    "        print(f\"  {year}: Mean={values.mean():.2f}, Std={values.std():.2f}, \"\n",
    "              f\"Range=[{values.min():.2f}, {values.max():.2f}]\")\n",
    "\n",
    "# Featured player analysis\n",
    "print(\"\\n\" + \"-\" * 30)\n",
    "print(\"FEATURED PLAYER PROJECTIONS\")\n",
    "print(\"-\" * 30)\n",
    "\n",
    "# Select interesting players for detailed analysis\n",
    "featured_players = [\n",
    "    'Mike Trout', 'Shohei Ohtani', 'Ronald Acuña Jr.', \n",
    "    'Mookie Betts', 'Aaron Judge', 'Juan Soto'\n",
    "]\n",
    "\n",
    "featured_projections = []\n",
    "\n",
    "for player_name in featured_players:\n",
    "    player_proj = batch_projections[batch_projections['Name'].str.contains(player_name, case=False, na=False)]\n",
    "    \n",
    "    if not player_proj.empty:\n",
    "        player_row = player_proj.iloc[0]\n",
    "        \n",
    "        print(f\"\\n{player_row['Name']} (Age {player_row['Age']:.0f}, {player_row['Position']}):\")\n",
    "        \n",
    "        # Show current values\n",
    "        if pd.notna(player_row['Current_WAR']):\n",
    "            print(f\"  Current WAR ({TARGET_PROJECTION_SEASON}): {player_row['Current_WAR']:.1f}\")\n",
    "        if pd.notna(player_row['Current_WARP']):\n",
    "            print(f\"  Current WARP ({TARGET_PROJECTION_SEASON}): {player_row['Current_WARP']:.1f}\")\n",
    "        \n",
    "        # Show WAR projections if available\n",
    "        war_projections_exist = any(pd.notna(player_row[col]) for col in war_projection_cols)\n",
    "        if war_projections_exist:\n",
    "            print(\"  WAR Projections:\")\n",
    "            for col in war_projection_cols:\n",
    "                year = col.split('_')[-1]\n",
    "                projected_war = player_row[col]\n",
    "                if pd.notna(projected_war):\n",
    "                    proj_year = int(TARGET_PROJECTION_SEASON) + int(year.replace('year_', ''))\n",
    "                    print(f\"    {proj_year}: {projected_war:.1f}\")\n",
    "        \n",
    "        # Show WARP projections if available\n",
    "        warp_projections_exist = any(pd.notna(player_row[col]) for col in warp_projection_cols)\n",
    "        if warp_projections_exist:\n",
    "            print(\"  WARP Projections:\")\n",
    "            for col in warp_projection_cols:\n",
    "                year = col.split('_')[-1]\n",
    "                projected_warp = player_row[col]\n",
    "                if pd.notna(projected_warp):\n",
    "                    proj_year = int(TARGET_PROJECTION_SEASON) + int(year.replace('year_', ''))\n",
    "                    print(f\"    {proj_year}: {projected_warp:.1f}\")\n",
    "        \n",
    "        # If neither WAR nor WARP projections exist, indicate this\n",
    "        if not war_projections_exist and not warp_projections_exist:\n",
    "            print(\"  No projections available for this player\")\n",
    "        \n",
    "        featured_projections.append(player_row)\n",
    "\n",
    "# Save projections\n",
    "projections_filename = f\"future_projections_{TARGET_PROJECTION_SEASON}.csv\"\n",
    "batch_projections.to_csv(projections_filename, index=False)\n",
    "\n",
    "print(f\"\\nProjections generation complete!\")\n",
    "print(f\"  Total projections: {len(batch_projections)}\")\n",
    "print(f\"  Featured players: {len(featured_projections)}\")\n",
    "print(f\"  Results saved to: {projections_filename}\")\n",
    "\n",
    "# Improved projection quality check\n",
    "war_valid_projections = batch_projections['projected_WAR_year_1'].dropna()\n",
    "reasonable_projections = war_valid_projections[\n",
    "    (war_valid_projections >= -2) & \n",
    "    (war_valid_projections <= 12)\n",
    "]\n",
    "total_with_war_data = len(batch_projections[batch_projections['Current_WAR'].notna()])\n",
    "\n",
    "print(f\"\\nProjection quality check:\")\n",
    "print(f\"  Players with WAR data: {total_with_war_data}/{len(batch_projections)} ({total_with_war_data/len(batch_projections)*100:.1f}%)\")\n",
    "print(f\"  Valid WAR projections: {len(war_valid_projections)}/{total_with_war_data} ({len(war_valid_projections)/max(1, total_with_war_data)*100:.1f}%)\")\n",
    "print(f\"  Reasonable WAR projections: {len(reasonable_projections)}/{len(war_valid_projections)} ({len(reasonable_projections)/max(1, len(war_valid_projections))*100:.1f}%)\")\n",
    "\n",
    "# Check WARP projections too\n",
    "warp_valid_projections = batch_projections['projected_WARP_year_1'].dropna()\n",
    "total_with_warp_data = len(batch_projections[batch_projections['Current_WARP'].notna()])\n",
    "\n",
    "print(f\"  Players with WARP data: {total_with_warp_data}/{len(batch_projections)} ({total_with_warp_data/len(batch_projections)*100:.1f}%)\")\n",
    "print(f\"  Valid WARP projections: {len(warp_valid_projections)}/{total_with_warp_data} ({len(warp_valid_projections)/max(1, total_with_warp_data)*100:.1f}%)\")\n",
    "\n",
    "if len(war_valid_projections) < total_with_war_data * 0.85:\n",
    "    print(\"WARNING: Many players missing WAR projections\")\n",
    "elif len(reasonable_projections) / max(1, len(war_valid_projections)) < 0.85:\n",
    "    print(\"WARNING: High percentage of unreasonable WAR projections\")\n",
    "else:\n",
    "    print(\"WAR projection quality looks good\")\n",
    "\n",
    "if len(warp_valid_projections) < total_with_warp_data * 0.85:\n",
    "    print(\"WARNING: Many players missing WARP projections\")\n",
    "else:\n",
    "    print(\"WARP projection quality looks good\")"
   ]
  },
  {
   "cell_type": "code",
   "execution_count": 5,
   "metadata": {},
   "outputs": [
    {
     "data": {
      "application/vnd.plotly.v1+json": {
       "config": {
        "plotlyServerURL": "https://plot.ly"
       },
       "data": [
        {
         "marker": {
          "color": "lightblue"
         },
         "name": "R²",
         "type": "bar",
         "x": {
          "bdata": "AQIDBAU=",
          "dtype": "i1"
         },
         "xaxis": "x",
         "y": {
          "bdata": "2LUSAN2Q1D+8grNt8i4BwGitGBV84sE/Bvyd9Ksp3T9yrKRNthbgPw==",
          "dtype": "f8"
         },
         "yaxis": "y"
        },
        {
         "marker": {
          "color": "lightcoral"
         },
         "name": "RMSE",
         "type": "bar",
         "x": {
          "bdata": "AQIDBAU=",
          "dtype": "i1"
         },
         "xaxis": "x2",
         "y": {
          "bdata": "HeYl3gle8D++l5711MrpP35EwtCZMvM/u2w6Ydyh7D8dG1ofFcfqPw==",
          "dtype": "f8"
         },
         "yaxis": "y2"
        },
        {
         "marker": {
          "color": "lightgreen"
         },
         "name": "C-Index",
         "type": "bar",
         "x": {
          "bdata": "AQIDBAU=",
          "dtype": "i1"
         },
         "xaxis": "x3",
         "y": {
          "bdata": "fwuXUFV35z++BTvFFJ3pP8aGOLl/0eg/S5YsWbKE6z9OkvTwUKjqPw==",
          "dtype": "f8"
         },
         "yaxis": "y3"
        },
        {
         "cells": {
          "fill": {
           "color": "white"
          },
          "values": [
           [
            "Mean R²",
            "Mean C-Index",
            "Folds"
           ],
           [
            "-0.146 ± 1.128",
            "0.800 ± 0.049",
            "5"
           ]
          ]
         },
         "domain": {
          "x": [
           0.55,
           1
          ],
          "y": [
           0,
           0.375
          ]
         },
         "header": {
          "fill": {
           "color": "lightgray"
          },
          "values": [
           "Metric",
           "Value"
          ]
         },
         "type": "table"
        }
       ],
       "layout": {
        "annotations": [
         {
          "font": {
           "size": 16
          },
          "showarrow": false,
          "text": "Longitudinal R²",
          "x": 0.225,
          "xanchor": "center",
          "xref": "paper",
          "y": 1,
          "yanchor": "bottom",
          "yref": "paper"
         },
         {
          "font": {
           "size": 16
          },
          "showarrow": false,
          "text": "Longitudinal RMSE",
          "x": 0.775,
          "xanchor": "center",
          "xref": "paper",
          "y": 1,
          "yanchor": "bottom",
          "yref": "paper"
         },
         {
          "font": {
           "size": 16
          },
          "showarrow": false,
          "text": "Survival Concordance Index",
          "x": 0.225,
          "xanchor": "center",
          "xref": "paper",
          "y": 0.375,
          "yanchor": "bottom",
          "yref": "paper"
         },
         {
          "font": {
           "size": 16
          },
          "showarrow": false,
          "text": "Summary",
          "x": 0.775,
          "xanchor": "center",
          "xref": "paper",
          "y": 0.375,
          "yanchor": "bottom",
          "yref": "paper"
         }
        ],
        "height": 800,
        "showlegend": false,
        "template": {
         "data": {
          "bar": [
           {
            "error_x": {
             "color": "#2a3f5f"
            },
            "error_y": {
             "color": "#2a3f5f"
            },
            "marker": {
             "line": {
              "color": "#E5ECF6",
              "width": 0.5
             },
             "pattern": {
              "fillmode": "overlay",
              "size": 10,
              "solidity": 0.2
             }
            },
            "type": "bar"
           }
          ],
          "barpolar": [
           {
            "marker": {
             "line": {
              "color": "#E5ECF6",
              "width": 0.5
             },
             "pattern": {
              "fillmode": "overlay",
              "size": 10,
              "solidity": 0.2
             }
            },
            "type": "barpolar"
           }
          ],
          "carpet": [
           {
            "aaxis": {
             "endlinecolor": "#2a3f5f",
             "gridcolor": "white",
             "linecolor": "white",
             "minorgridcolor": "white",
             "startlinecolor": "#2a3f5f"
            },
            "baxis": {
             "endlinecolor": "#2a3f5f",
             "gridcolor": "white",
             "linecolor": "white",
             "minorgridcolor": "white",
             "startlinecolor": "#2a3f5f"
            },
            "type": "carpet"
           }
          ],
          "choropleth": [
           {
            "colorbar": {
             "outlinewidth": 0,
             "ticks": ""
            },
            "type": "choropleth"
           }
          ],
          "contour": [
           {
            "colorbar": {
             "outlinewidth": 0,
             "ticks": ""
            },
            "colorscale": [
             [
              0,
              "#0d0887"
             ],
             [
              0.1111111111111111,
              "#46039f"
             ],
             [
              0.2222222222222222,
              "#7201a8"
             ],
             [
              0.3333333333333333,
              "#9c179e"
             ],
             [
              0.4444444444444444,
              "#bd3786"
             ],
             [
              0.5555555555555556,
              "#d8576b"
             ],
             [
              0.6666666666666666,
              "#ed7953"
             ],
             [
              0.7777777777777778,
              "#fb9f3a"
             ],
             [
              0.8888888888888888,
              "#fdca26"
             ],
             [
              1,
              "#f0f921"
             ]
            ],
            "type": "contour"
           }
          ],
          "contourcarpet": [
           {
            "colorbar": {
             "outlinewidth": 0,
             "ticks": ""
            },
            "type": "contourcarpet"
           }
          ],
          "heatmap": [
           {
            "colorbar": {
             "outlinewidth": 0,
             "ticks": ""
            },
            "colorscale": [
             [
              0,
              "#0d0887"
             ],
             [
              0.1111111111111111,
              "#46039f"
             ],
             [
              0.2222222222222222,
              "#7201a8"
             ],
             [
              0.3333333333333333,
              "#9c179e"
             ],
             [
              0.4444444444444444,
              "#bd3786"
             ],
             [
              0.5555555555555556,
              "#d8576b"
             ],
             [
              0.6666666666666666,
              "#ed7953"
             ],
             [
              0.7777777777777778,
              "#fb9f3a"
             ],
             [
              0.8888888888888888,
              "#fdca26"
             ],
             [
              1,
              "#f0f921"
             ]
            ],
            "type": "heatmap"
           }
          ],
          "histogram": [
           {
            "marker": {
             "pattern": {
              "fillmode": "overlay",
              "size": 10,
              "solidity": 0.2
             }
            },
            "type": "histogram"
           }
          ],
          "histogram2d": [
           {
            "colorbar": {
             "outlinewidth": 0,
             "ticks": ""
            },
            "colorscale": [
             [
              0,
              "#0d0887"
             ],
             [
              0.1111111111111111,
              "#46039f"
             ],
             [
              0.2222222222222222,
              "#7201a8"
             ],
             [
              0.3333333333333333,
              "#9c179e"
             ],
             [
              0.4444444444444444,
              "#bd3786"
             ],
             [
              0.5555555555555556,
              "#d8576b"
             ],
             [
              0.6666666666666666,
              "#ed7953"
             ],
             [
              0.7777777777777778,
              "#fb9f3a"
             ],
             [
              0.8888888888888888,
              "#fdca26"
             ],
             [
              1,
              "#f0f921"
             ]
            ],
            "type": "histogram2d"
           }
          ],
          "histogram2dcontour": [
           {
            "colorbar": {
             "outlinewidth": 0,
             "ticks": ""
            },
            "colorscale": [
             [
              0,
              "#0d0887"
             ],
             [
              0.1111111111111111,
              "#46039f"
             ],
             [
              0.2222222222222222,
              "#7201a8"
             ],
             [
              0.3333333333333333,
              "#9c179e"
             ],
             [
              0.4444444444444444,
              "#bd3786"
             ],
             [
              0.5555555555555556,
              "#d8576b"
             ],
             [
              0.6666666666666666,
              "#ed7953"
             ],
             [
              0.7777777777777778,
              "#fb9f3a"
             ],
             [
              0.8888888888888888,
              "#fdca26"
             ],
             [
              1,
              "#f0f921"
             ]
            ],
            "type": "histogram2dcontour"
           }
          ],
          "mesh3d": [
           {
            "colorbar": {
             "outlinewidth": 0,
             "ticks": ""
            },
            "type": "mesh3d"
           }
          ],
          "parcoords": [
           {
            "line": {
             "colorbar": {
              "outlinewidth": 0,
              "ticks": ""
             }
            },
            "type": "parcoords"
           }
          ],
          "pie": [
           {
            "automargin": true,
            "type": "pie"
           }
          ],
          "scatter": [
           {
            "fillpattern": {
             "fillmode": "overlay",
             "size": 10,
             "solidity": 0.2
            },
            "type": "scatter"
           }
          ],
          "scatter3d": [
           {
            "line": {
             "colorbar": {
              "outlinewidth": 0,
              "ticks": ""
             }
            },
            "marker": {
             "colorbar": {
              "outlinewidth": 0,
              "ticks": ""
             }
            },
            "type": "scatter3d"
           }
          ],
          "scattercarpet": [
           {
            "marker": {
             "colorbar": {
              "outlinewidth": 0,
              "ticks": ""
             }
            },
            "type": "scattercarpet"
           }
          ],
          "scattergeo": [
           {
            "marker": {
             "colorbar": {
              "outlinewidth": 0,
              "ticks": ""
             }
            },
            "type": "scattergeo"
           }
          ],
          "scattergl": [
           {
            "marker": {
             "colorbar": {
              "outlinewidth": 0,
              "ticks": ""
             }
            },
            "type": "scattergl"
           }
          ],
          "scattermap": [
           {
            "marker": {
             "colorbar": {
              "outlinewidth": 0,
              "ticks": ""
             }
            },
            "type": "scattermap"
           }
          ],
          "scattermapbox": [
           {
            "marker": {
             "colorbar": {
              "outlinewidth": 0,
              "ticks": ""
             }
            },
            "type": "scattermapbox"
           }
          ],
          "scatterpolar": [
           {
            "marker": {
             "colorbar": {
              "outlinewidth": 0,
              "ticks": ""
             }
            },
            "type": "scatterpolar"
           }
          ],
          "scatterpolargl": [
           {
            "marker": {
             "colorbar": {
              "outlinewidth": 0,
              "ticks": ""
             }
            },
            "type": "scatterpolargl"
           }
          ],
          "scatterternary": [
           {
            "marker": {
             "colorbar": {
              "outlinewidth": 0,
              "ticks": ""
             }
            },
            "type": "scatterternary"
           }
          ],
          "surface": [
           {
            "colorbar": {
             "outlinewidth": 0,
             "ticks": ""
            },
            "colorscale": [
             [
              0,
              "#0d0887"
             ],
             [
              0.1111111111111111,
              "#46039f"
             ],
             [
              0.2222222222222222,
              "#7201a8"
             ],
             [
              0.3333333333333333,
              "#9c179e"
             ],
             [
              0.4444444444444444,
              "#bd3786"
             ],
             [
              0.5555555555555556,
              "#d8576b"
             ],
             [
              0.6666666666666666,
              "#ed7953"
             ],
             [
              0.7777777777777778,
              "#fb9f3a"
             ],
             [
              0.8888888888888888,
              "#fdca26"
             ],
             [
              1,
              "#f0f921"
             ]
            ],
            "type": "surface"
           }
          ],
          "table": [
           {
            "cells": {
             "fill": {
              "color": "#EBF0F8"
             },
             "line": {
              "color": "white"
             }
            },
            "header": {
             "fill": {
              "color": "#C8D4E3"
             },
             "line": {
              "color": "white"
             }
            },
            "type": "table"
           }
          ]
         },
         "layout": {
          "annotationdefaults": {
           "arrowcolor": "#2a3f5f",
           "arrowhead": 0,
           "arrowwidth": 1
          },
          "autotypenumbers": "strict",
          "coloraxis": {
           "colorbar": {
            "outlinewidth": 0,
            "ticks": ""
           }
          },
          "colorscale": {
           "diverging": [
            [
             0,
             "#8e0152"
            ],
            [
             0.1,
             "#c51b7d"
            ],
            [
             0.2,
             "#de77ae"
            ],
            [
             0.3,
             "#f1b6da"
            ],
            [
             0.4,
             "#fde0ef"
            ],
            [
             0.5,
             "#f7f7f7"
            ],
            [
             0.6,
             "#e6f5d0"
            ],
            [
             0.7,
             "#b8e186"
            ],
            [
             0.8,
             "#7fbc41"
            ],
            [
             0.9,
             "#4d9221"
            ],
            [
             1,
             "#276419"
            ]
           ],
           "sequential": [
            [
             0,
             "#0d0887"
            ],
            [
             0.1111111111111111,
             "#46039f"
            ],
            [
             0.2222222222222222,
             "#7201a8"
            ],
            [
             0.3333333333333333,
             "#9c179e"
            ],
            [
             0.4444444444444444,
             "#bd3786"
            ],
            [
             0.5555555555555556,
             "#d8576b"
            ],
            [
             0.6666666666666666,
             "#ed7953"
            ],
            [
             0.7777777777777778,
             "#fb9f3a"
            ],
            [
             0.8888888888888888,
             "#fdca26"
            ],
            [
             1,
             "#f0f921"
            ]
           ],
           "sequentialminus": [
            [
             0,
             "#0d0887"
            ],
            [
             0.1111111111111111,
             "#46039f"
            ],
            [
             0.2222222222222222,
             "#7201a8"
            ],
            [
             0.3333333333333333,
             "#9c179e"
            ],
            [
             0.4444444444444444,
             "#bd3786"
            ],
            [
             0.5555555555555556,
             "#d8576b"
            ],
            [
             0.6666666666666666,
             "#ed7953"
            ],
            [
             0.7777777777777778,
             "#fb9f3a"
            ],
            [
             0.8888888888888888,
             "#fdca26"
            ],
            [
             1,
             "#f0f921"
            ]
           ]
          },
          "colorway": [
           "#636efa",
           "#EF553B",
           "#00cc96",
           "#ab63fa",
           "#FFA15A",
           "#19d3f3",
           "#FF6692",
           "#B6E880",
           "#FF97FF",
           "#FECB52"
          ],
          "font": {
           "color": "#2a3f5f"
          },
          "geo": {
           "bgcolor": "white",
           "lakecolor": "white",
           "landcolor": "#E5ECF6",
           "showlakes": true,
           "showland": true,
           "subunitcolor": "white"
          },
          "hoverlabel": {
           "align": "left"
          },
          "hovermode": "closest",
          "mapbox": {
           "style": "light"
          },
          "paper_bgcolor": "white",
          "plot_bgcolor": "#E5ECF6",
          "polar": {
           "angularaxis": {
            "gridcolor": "white",
            "linecolor": "white",
            "ticks": ""
           },
           "bgcolor": "#E5ECF6",
           "radialaxis": {
            "gridcolor": "white",
            "linecolor": "white",
            "ticks": ""
           }
          },
          "scene": {
           "xaxis": {
            "backgroundcolor": "#E5ECF6",
            "gridcolor": "white",
            "gridwidth": 2,
            "linecolor": "white",
            "showbackground": true,
            "ticks": "",
            "zerolinecolor": "white"
           },
           "yaxis": {
            "backgroundcolor": "#E5ECF6",
            "gridcolor": "white",
            "gridwidth": 2,
            "linecolor": "white",
            "showbackground": true,
            "ticks": "",
            "zerolinecolor": "white"
           },
           "zaxis": {
            "backgroundcolor": "#E5ECF6",
            "gridcolor": "white",
            "gridwidth": 2,
            "linecolor": "white",
            "showbackground": true,
            "ticks": "",
            "zerolinecolor": "white"
           }
          },
          "shapedefaults": {
           "line": {
            "color": "#2a3f5f"
           }
          },
          "ternary": {
           "aaxis": {
            "gridcolor": "white",
            "linecolor": "white",
            "ticks": ""
           },
           "baxis": {
            "gridcolor": "white",
            "linecolor": "white",
            "ticks": ""
           },
           "bgcolor": "#E5ECF6",
           "caxis": {
            "gridcolor": "white",
            "linecolor": "white",
            "ticks": ""
           }
          },
          "title": {
           "x": 0.05
          },
          "xaxis": {
           "automargin": true,
           "gridcolor": "white",
           "linecolor": "white",
           "ticks": "",
           "title": {
            "standoff": 15
           },
           "zerolinecolor": "white",
           "zerolinewidth": 2
          },
          "yaxis": {
           "automargin": true,
           "gridcolor": "white",
           "linecolor": "white",
           "ticks": "",
           "title": {
            "standoff": 15
           },
           "zerolinecolor": "white",
           "zerolinewidth": 2
          }
         }
        },
        "title": {
         "text": "Joint Model Validation Results"
        },
        "xaxis": {
         "anchor": "y",
         "domain": [
          0,
          0.45
         ]
        },
        "xaxis2": {
         "anchor": "y2",
         "domain": [
          0.55,
          1
         ]
        },
        "xaxis3": {
         "anchor": "y3",
         "domain": [
          0,
          0.45
         ]
        },
        "yaxis": {
         "anchor": "x",
         "domain": [
          0.625,
          1
         ]
        },
        "yaxis2": {
         "anchor": "x2",
         "domain": [
          0.625,
          1
         ]
        },
        "yaxis3": {
         "anchor": "x3",
         "domain": [
          0,
          0.375
         ]
        }
       }
      }
     },
     "metadata": {},
     "output_type": "display_data"
    }
   ],
   "source": [
    "if hasattr(pipeline.validator, 'validation_results') and pipeline.validator.validation_results:\n",
    "    # Plot validation metrics across folds\n",
    "    pipeline.validator.plot_validation_metrics()\n",
    "else:\n",
    "    print(\"   Note: Validation plots not available - run validation first\")"
   ]
  }
 ],
 "metadata": {
  "kernelspec": {
   "display_name": ".venv",
   "language": "python",
   "name": "python3"
  },
  "language_info": {
   "codemirror_mode": {
    "name": "ipython",
    "version": 3
   },
   "file_extension": ".py",
   "mimetype": "text/x-python",
   "name": "python",
   "nbconvert_exporter": "python",
   "pygments_lexer": "ipython3",
   "version": "3.13.7"
  }
 },
 "nbformat": 4,
 "nbformat_minor": 4
}
