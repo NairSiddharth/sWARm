{
 "cells": [
  {
   "cell_type": "markdown",
   "metadata": {},
   "source": [
    "# sWARm Future Projections (SYSTEM 2)\n",
    "\n",
    "ZIPS-style future performance projections using joint longitudinal-survival modeling.\n",
    "Implements 1-3 year forecasting with temporal GroupKFold cross-validation.\n",
    "\n",
    "## Architecture\n",
    "- **Cell 1**: Module imports and configuration\n",
    "- **Cell 2**: Data loading and model training\n",
    "- **Cell 3**: Model validation and performance metrics\n",
    "- **Cell 4**: Future player projections generation\n",
    "- **Cell 5**: Visualizations and analysis\n",
    "\n",
    "All major functionality is implemented in `projection_modules/` following software development best practices."
   ]
  },
  {
   "cell_type": "code",
   "execution_count": 1,
   "metadata": {},
   "outputs": [
    {
     "name": "stdout",
     "output_type": "stream",
     "text": [
      "SYSTEM 2: Future Performance Projections\n",
      "==================================================\n",
      "Analysis years: 2016-2024\n",
      "Max projection years: 3\n",
      "Target projection season: 2024\n",
      "Validation folds: 5\n",
      "\n",
      "“ Modules imported and configuration set\n"
     ]
    }
   ],
   "source": [
    "# Cell 1: Module Imports and Configuration\n",
    "# =====================================\n",
    "\n",
    "import pandas as pd\n",
    "import numpy as np\n",
    "import warnings\n",
    "from pathlib import Path\n",
    "import matplotlib.pyplot as plt\n",
    "import seaborn as sns\n",
    "import plotly.graph_objects as go\n",
    "import plotly.express as px\n",
    "from plotly.subplots import make_subplots\n",
    "\n",
    "# Import SYSTEM 2 projection modules\n",
    "from projection_modules import (\n",
    "    ExpectedStatsCalculator,\n",
    "    FutureProjectionAgeCurve,\n",
    "    AgeCurveValidator,\n",
    "    System2Pipeline\n",
    ")\n",
    "\n",
    "# Configuration\n",
    "warnings.filterwarnings('ignore', category=FutureWarning)\n",
    "pd.set_option('display.max_columns', None)\n",
    "pd.set_option('display.width', None)\n",
    "\n",
    "# Paths configuration - corrected paths\n",
    "BP_DATA_PATH = \"MLB Player Data/BP_Data\"\n",
    "FG_DATA_PATH = \"MLB Player Data/FanGraphs_Data\"\n",
    "MODEL_SAVE_PATH = \"system2_future_projections_model.pkl\"\n",
    "\n",
    "# Analysis parameters\n",
    "ANALYSIS_YEARS = list(range(2016, 2025))  # 2016-2024\n",
    "MAX_PROJECTION_YEARS = 3  # Project 1-3 years ahead\n",
    "VALIDATION_SPLITS = 5  # Temporal cross-validation folds\n",
    "TARGET_PROJECTION_SEASON = 2024  # Generate 2025-2027 projections\n",
    "\n",
    "print(\"SYSTEM 2: Future Performance Projections\")\n",
    "print(\"=\" * 50)\n",
    "print(f\"Analysis years: {ANALYSIS_YEARS[0]}-{ANALYSIS_YEARS[-1]}\")\n",
    "print(f\"Max projection years: {MAX_PROJECTION_YEARS}\")\n",
    "print(f\"Target projection season: {TARGET_PROJECTION_SEASON}\")\n",
    "print(f\"Validation folds: {VALIDATION_SPLITS}\")\n",
    "print(\"\\n“ Modules imported and configuration set\")"
   ]
  },
  {
   "cell_type": "code",
   "execution_count": 2,
   "metadata": {},
   "outputs": [
    {
     "name": "stdout",
     "output_type": "stream",
     "text": [
      "CELL 2: DATA LOADING AND MODEL TRAINING\n",
      "==================================================\n",
      "\n",
      "1. Loading complete dataset...\n",
      "SYSTEM 2: Loading complete dataset...\n",
      "==================================================\n",
      "  Loading FanGraphs hitters data...\n",
      "    Loaded 5760 hitters player-seasons from 9 years\n",
      "  Loading BP hitters data...\n",
      "    Loaded 6145 hitters player-seasons from 9 years\n",
      "  Loading FanGraphs pitchers data...\n",
      "    Loaded 7237 pitchers player-seasons from 9 years\n",
      "  Loading BP pitchers data...\n",
      "    Loaded 7345 pitchers player-seasons from 9 years\n",
      "  Filling missing Age data from BP records...\n",
      "    Filled Age for 12979/12997 WAR records from WARP data\n",
      "      Primary matches (mlbid): 12978\n",
      "      Fallback matches (name): 1\n",
      "    18 WAR records still missing Age (no matching WARP record)\n",
      "  Adding position data from FanGraphs defensive files...\n",
      "    Filled Position for 26287/26487 records from defensive data\n",
      "    200 records still missing Position (no matching defensive record)\n",
      "  Loading expected stats from Statcast data...\n"
     ]
    },
    {
     "name": "stderr",
     "output_type": "stream",
     "text": [
      "c:\\Users\\nairs\\Documents\\GithubProjects\\oWAR\\projection_modules\\integration.py:579: UserWarning: No expected stats data found\n",
      "  warnings.warn(\"No expected stats data found\")\n"
     ]
    },
    {
     "name": "stdout",
     "output_type": "stream",
     "text": [
      "Complete dataset loaded: 43187 records\n",
      "  Years: 2016-2024\n",
      "  Players: 3537 unique\n",
      "  Data sources: {'WARP': 21896, 'WAR': 21291}\n",
      "\n",
      "2. Preparing projection features...\n",
      "\n",
      "Preparing projection features...\n",
      "  Adding default regression factor...\n",
      "Projection features prepared for 43187 records\n",
      "\n",
      "3. Preparing training data...\n",
      "\n",
      "Preparing training data...\n",
      "  Dropped 52 incomplete records (see dropped_players_log.txt)\n",
      "Training data prepared: 42279 records\n",
      "  Age range: 19.0-45.0\n",
      "  Target metric range: -0.9-5.2\n",
      "  Seasons: 2016-2024\n",
      "  Data sources: WAR=20627, WARP=21652\n",
      "\n",
      "4. Training joint longitudinal-survival model...\n",
      "\n",
      "Training separate WAR and WARP projection models...\n",
      "  WAR training data: 20627 records\n",
      "  WARP training data: 21652 records\n",
      "Fitting joint longitudinal-survival model for future projections...\n",
      "Preparing longitudinal data for year-to-year WAR prediction...\n",
      "  Valid year-to-year transitions: 8045\n",
      "  Transitions with NaN features: 0\n",
      "  Transitions with NaN targets: 0\n",
      "  Final training examples: 8045\n",
      "Longitudinal data prepared: 8045 training examples, 7 features\n",
      "Preparing survival data for retirement risk modeling (full data through 2024)...\n",
      "Survival data prepared: 3504 observations, 2104 retirement events\n",
      "  Event rate: 0.600\n",
      "  Censored (active): 1400\n",
      "Fitting year-to-year performance trajectory model...\n",
      "   Training samples: 8045\n",
      "   Features: 7\n",
      "   Target shape: (8045,)\n",
      "   Year-to-year prediction performance:\n",
      "     R² = 0.457\n",
      "     RMSE = 0.865\n",
      "     MAE = 0.642\n",
      "Fitting retirement hazard model...\n",
      "   Validating survival data: 3504 observations, 2104 events\n",
      "   Duration range: 1 - 9\n",
      "   Event rate: 0.600\n",
      "   Cox PH model fitted successfully\n",
      "   Concordance index: 0.803\n",
      "Joint model fitting complete!\n",
      "Fitting joint longitudinal-survival model for future projections...\n",
      "Preparing longitudinal data for year-to-year WAR prediction...\n",
      "  Valid year-to-year transitions: 8341\n",
      "  Transitions with NaN features: 0\n",
      "  Transitions with NaN targets: 0\n",
      "  Final training examples: 8341\n",
      "Longitudinal data prepared: 8341 training examples, 7 features\n",
      "Preparing survival data for retirement risk modeling (full data through 2024)...\n",
      "Survival data prepared: 3530 observations, 2102 retirement events\n",
      "  Event rate: 0.595\n",
      "  Censored (active): 1428\n",
      "Fitting year-to-year performance trajectory model...\n",
      "   Training samples: 8341\n",
      "   Features: 7\n",
      "   Target shape: (8341,)\n",
      "   Year-to-year prediction performance:\n",
      "     R² = 0.554\n",
      "     RMSE = 0.720\n",
      "     MAE = 0.503\n",
      "Fitting retirement hazard model...\n",
      "   Validating survival data: 3530 observations, 2102 events\n",
      "   Duration range: 1 - 9\n",
      "   Event rate: 0.595\n",
      "   Cox PH model fitted successfully\n",
      "   Concordance index: 0.801\n",
      "Joint model fitting complete!\n",
      "Separate model training complete!\n",
      "\n",
      "==================================================\n",
      "TRAINING RESULTS\n",
      "==================================================\n",
      "\n",
      "WAR Model Performance:\n",
      "  Longitudinal Model (Year-to-year prediction):\n",
      "    r2: 0.457\n",
      "    rmse: 0.865\n",
      "    mae: 0.642\n",
      "  Survival Model (Retirement risk):\n",
      "    concordance_index: 0.803\n",
      "    n_observations: 3504.000\n",
      "    n_events: 2104.000\n",
      "  Training samples: 8045\n",
      "  Survival observations: 3504\n",
      "\n",
      "WARP Model Performance:\n",
      "  Longitudinal Model (Year-to-year prediction):\n",
      "    r2: 0.554\n",
      "    rmse: 0.720\n",
      "    mae: 0.503\n",
      "  Survival Model (Retirement risk):\n",
      "    concordance_index: 0.801\n",
      "    n_observations: 3530.000\n",
      "    n_events: 2102.000\n",
      "  Training samples: 8341\n",
      "  Survival observations: 3530\n",
      "\n",
      "Model training complete!\n",
      "  Dataset: 42279 records, 3533 players\n",
      "  Season range: 2016-2024\n",
      "  Separate model architecture: WAR and WARP trained independently\n",
      "  Iterative projection approach: 3 years using year-to-year transitions\n"
     ]
    }
   ],
   "source": [
    "# Cell 2: Data Loading and Model Training\n",
    "# =====================================\n",
    "\n",
    "print(\"CELL 2: DATA LOADING AND MODEL TRAINING\")\n",
    "print(\"=\" * 50)\n",
    "\n",
    "# Initialize SYSTEM 2 pipeline\n",
    "pipeline = System2Pipeline(\n",
    "    bp_data_path=BP_DATA_PATH,\n",
    "    fg_data_path=FG_DATA_PATH,\n",
    "    max_projection_years=MAX_PROJECTION_YEARS\n",
    ")\n",
    "\n",
    "# Step 1: Load complete dataset\n",
    "print(\"\\n1. Loading complete dataset...\")\n",
    "raw_data = pipeline.load_complete_dataset(\n",
    "    years=ANALYSIS_YEARS,\n",
    "    player_types=['hitters', 'pitchers']\n",
    ")\n",
    "\n",
    "# Step 2: Prepare projection features\n",
    "print(\"\\n2. Preparing projection features...\")\n",
    "processed_data = pipeline.prepare_projection_features(raw_data)\n",
    "\n",
    "# Step 3: Prepare training data\n",
    "print(\"\\n3. Preparing training data...\")\n",
    "training_data = pipeline.prepare_training_data(processed_data)\n",
    "\n",
    "# Step 4: Train joint longitudinal-survival model\n",
    "print(\"\\n4. Training joint longitudinal-survival model...\")\n",
    "training_metrics = pipeline.train_projection_model(training_data)\n",
    "\n",
    "# Display training results\n",
    "print(\"\\n\" + \"=\" * 50)\n",
    "print(\"TRAINING RESULTS\")\n",
    "print(\"=\" * 50)\n",
    "\n",
    "# Display WAR model results\n",
    "if hasattr(pipeline, 'war_model') and pipeline.war_model is not None:\n",
    "    print(\"\\nWAR Model Performance:\")\n",
    "    if 'war_model' in training_metrics:\n",
    "        war_metrics = training_metrics['war_model']\n",
    "        if 'longitudinal_performance' in war_metrics:\n",
    "            print(\"  Longitudinal Model (Year-to-year prediction):\")\n",
    "            for metric, value in war_metrics['longitudinal_performance'].items():\n",
    "                if not np.isnan(value):\n",
    "                    print(f\"    {metric}: {value:.3f}\")\n",
    "        \n",
    "        if 'survival_performance' in war_metrics:\n",
    "            print(\"  Survival Model (Retirement risk):\")\n",
    "            for metric, value in war_metrics['survival_performance'].items():\n",
    "                if not np.isnan(value):\n",
    "                    print(f\"    {metric}: {value:.3f}\")\n",
    "        \n",
    "        print(f\"  Training samples: {war_metrics.get('training_samples', 'N/A')}\")\n",
    "        print(f\"  Survival observations: {war_metrics.get('survival_observations', 'N/A')}\")\n",
    "else:\n",
    "    print(\"\\nWAR Model: Not trained (insufficient data)\")\n",
    "\n",
    "# Display WARP model results  \n",
    "if hasattr(pipeline, 'warp_model') and pipeline.warp_model is not None:\n",
    "    print(\"\\nWARP Model Performance:\")\n",
    "    if 'warp_model' in training_metrics:\n",
    "        warp_metrics = training_metrics['warp_model']\n",
    "        if 'longitudinal_performance' in warp_metrics:\n",
    "            print(\"  Longitudinal Model (Year-to-year prediction):\")\n",
    "            for metric, value in warp_metrics['longitudinal_performance'].items():\n",
    "                if not np.isnan(value):\n",
    "                    print(f\"    {metric}: {value:.3f}\")\n",
    "        \n",
    "        if 'survival_performance' in warp_metrics:\n",
    "            print(\"  Survival Model (Retirement risk):\")\n",
    "            for metric, value in warp_metrics['survival_performance'].items():\n",
    "                if not np.isnan(value):\n",
    "                    print(f\"    {metric}: {value:.3f}\")\n",
    "        \n",
    "        print(f\"  Training samples: {warp_metrics.get('training_samples', 'N/A')}\")\n",
    "        print(f\"  Survival observations: {warp_metrics.get('survival_observations', 'N/A')}\")\n",
    "else:\n",
    "    print(\"\\nWARP Model: Not trained (insufficient data)\")\n",
    "\n",
    "# Save training results\n",
    "training_summary = {\n",
    "    'data_records': len(training_data),\n",
    "    'unique_players': training_data['mlbid'].nunique(),\n",
    "    'season_range': f\"{training_data['Season'].min()}-{training_data['Season'].max()}\",\n",
    "    'training_metrics': training_metrics\n",
    "}\n",
    "\n",
    "print(f\"\\nModel training complete!\")\n",
    "print(f\"  Dataset: {training_summary['data_records']} records, {training_summary['unique_players']} players\")\n",
    "print(f\"  Season range: {training_summary['season_range']}\")\n",
    "print(f\"  Separate model architecture: WAR and WARP trained independently\")\n",
    "print(f\"  Iterative projection approach: {MAX_PROJECTION_YEARS} years using year-to-year transitions\")"
   ]
  },
  {
   "cell_type": "code",
   "execution_count": 3,
   "metadata": {},
   "outputs": [
    {
     "name": "stdout",
     "output_type": "stream",
     "text": [
      "CELL 3: MODEL VALIDATION AND PERFORMANCE METRICS\n",
      "==================================================\n",
      "\n",
      "Performing 5-fold temporal cross-validation...\n",
      "\n",
      "Validating both models with 5-fold temporal cross-validation...\n",
      "Validating WAR model...\n",
      "Validating joint model with 5-fold temporal cross-validation...\n",
      "Creating 5 temporal splits:\n",
      "  Total seasons: 9 (2016-2024)\n",
      "  Min training seasons: 3\n",
      "  Fold 1: Train 2016-2018 → Val 2019-2019 (6502 → 2359 records)\n",
      "\n",
      "Validating fold 1/5...\n",
      "Preparing survival data for temporal validation (cutoff: 2018)...\n",
      "Survival data prepared: 1925 observations, 596 retirement events\n",
      "  Event rate: 0.310\n",
      "  Censored (active): 1329\n",
      "  Fold 2: Train 2016-2019 → Val 2020-2020 (8861 → 1899 records)\n",
      "\n",
      "Validating fold 2/5...\n",
      "Preparing survival data for temporal validation (cutoff: 2019)...\n",
      "Survival data prepared: 2196 observations, 851 retirement events\n",
      "  Event rate: 0.388\n",
      "  Censored (active): 1345\n",
      "  Fold 3: Train 2016-2020 → Val 2021-2021 (10760 → 2547 records)\n",
      "\n",
      "Validating fold 3/5...\n",
      "Preparing survival data for temporal validation (cutoff: 2020)...\n",
      "Survival data prepared: 2410 observations, 1142 retirement events\n",
      "  Event rate: 0.474\n",
      "  Censored (active): 1268\n",
      "  Fold 4: Train 2016-2021 → Val 2022-2022 (13307 → 2554 records)\n",
      "\n",
      "Validating fold 4/5...\n",
      "Preparing survival data for temporal validation (cutoff: 2021)...\n",
      "Survival data prepared: 2687 observations, 1227 retirement events\n",
      "  Event rate: 0.457\n",
      "  Censored (active): 1460\n",
      "  Fold 5: Train 2016-2022 → Val 2023-2023 (15861 → 2431 records)\n",
      "\n",
      "Validating fold 5/5...\n",
      "Preparing survival data for temporal validation (cutoff: 2022)...\n",
      "Survival data prepared: 2984 observations, 1547 retirement events\n",
      "  Event rate: 0.518\n",
      "  Censored (active): 1437\n",
      "\n",
      "Cross-validation complete!\n",
      "==================================================\n",
      "VALIDATION SUMMARY\n",
      "==================================================\n",
      "\n",
      "Longitudinal Model Performance:\n",
      "  R2: 0.205 ± 0.085\n",
      "  RMSE: 0.920 ± 0.157\n",
      "  MAE: 0.696 ± 0.100\n",
      "\n",
      "Survival Model Performance:\n",
      "  concordance_index: 0.706 ± 0.083\n",
      "\n",
      "Validation completed across 5 temporal folds\n",
      "Validating WARP model...\n",
      "Validating joint model with 5-fold temporal cross-validation...\n",
      "Creating 5 temporal splits:\n",
      "  Total seasons: 9 (2016-2024)\n",
      "  Min training seasons: 3\n",
      "  Fold 1: Train 2016-2018 → Val 2019-2019 (6728 → 2435 records)\n",
      "\n",
      "Validating fold 1/5...\n",
      "Preparing survival data for temporal validation (cutoff: 2018)...\n",
      "Survival data prepared: 1949 observations, 594 retirement events\n",
      "  Event rate: 0.305\n",
      "  Censored (active): 1355\n",
      "  Fold 2: Train 2016-2019 → Val 2020-2020 (9163 → 1951 records)\n",
      "\n",
      "Validating fold 2/5...\n",
      "Preparing survival data for temporal validation (cutoff: 2019)...\n",
      "Survival data prepared: 2221 observations, 839 retirement events\n",
      "  Event rate: 0.378\n",
      "  Censored (active): 1382\n",
      "  Fold 3: Train 2016-2020 → Val 2021-2021 (11114 → 3032 records)\n",
      "\n",
      "Validating fold 3/5...\n",
      "Preparing survival data for temporal validation (cutoff: 2020)...\n",
      "Survival data prepared: 2438 observations, 1153 retirement events\n",
      "  Event rate: 0.473\n",
      "  Censored (active): 1285\n",
      "  Fold 4: Train 2016-2021 → Val 2022-2022 (14146 → 2628 records)\n",
      "\n",
      "Validating fold 4/5...\n",
      "Preparing survival data for temporal validation (cutoff: 2021)...\n",
      "Survival data prepared: 2707 observations, 1218 retirement events\n",
      "  Event rate: 0.450\n",
      "  Censored (active): 1489\n",
      "  Fold 5: Train 2016-2022 → Val 2023-2023 (16774 → 2498 records)\n",
      "\n",
      "Validating fold 5/5...\n",
      "Preparing survival data for temporal validation (cutoff: 2022)...\n",
      "Survival data prepared: 3011 observations, 1548 retirement events\n",
      "  Event rate: 0.514\n",
      "  Censored (active): 1463\n",
      "\n",
      "Cross-validation complete!\n",
      "==================================================\n",
      "VALIDATION SUMMARY\n",
      "==================================================\n",
      "\n",
      "Longitudinal Model Performance:\n",
      "  R2: -0.032 ± 0.524\n",
      "  RMSE: 0.724 ± 0.133\n",
      "  MAE: 0.525 ± 0.071\n",
      "\n",
      "Survival Model Performance:\n",
      "  concordance_index: 0.748 ± 0.077\n",
      "\n",
      "Validation completed across 5 temporal folds\n",
      "Model validation complete!\n",
      "\n",
      "==================================================\n",
      "CROSS-VALIDATION RESULTS\n",
      "==================================================\n",
      "\n",
      "WAR Model Cross-Validation:\n",
      "  Longitudinal Model Performance:\n",
      "    R2: 0.205 ± 0.085 (range: 0.048-0.286)\n",
      "    RMSE: 0.920 ± 0.157 (range: 0.644-1.093)\n",
      "    MAE: 0.696 ± 0.100 (range: 0.512-0.790)\n",
      "  Survival Model Performance:\n",
      "    concordance_index: 0.706 ± 0.083 (range: 0.562-0.793)\n",
      "\n",
      "WARP Model Cross-Validation:\n",
      "  Longitudinal Model Performance:\n",
      "    R2: -0.032 ± 0.524 (range: -1.076-0.277)\n",
      "    RMSE: 0.724 ± 0.133 (range: 0.522-0.935)\n",
      "    MAE: 0.525 ± 0.071 (range: 0.403-0.621)\n",
      "  Survival Model Performance:\n",
      "    concordance_index: 0.748 ± 0.077 (range: 0.641-0.840)\n",
      "\n",
      "------------------------------\n",
      "PERFORMANCE ASSESSMENT\n",
      "------------------------------\n",
      "\n",
      "WAR Model Assessment:\n",
      "  Longitudinal R²: 0.205 - GOOD - Strong predictive power\n",
      "  Longitudinal RMSE: 0.920 - GOOD - Low prediction error\n",
      "  Survival C-Index: 0.706 - FAIR - Moderate discrimination\n",
      "\n",
      "WARP Model Assessment:\n",
      "  Longitudinal R²: -0.032 - POOR - Limited predictive power\n",
      "  Longitudinal RMSE: 0.724 - GOOD - Low prediction error\n",
      "  Survival C-Index: 0.748 - FAIR - Moderate discrimination\n",
      "Validation report saved to validation_report.csv\n",
      "\n",
      "Model validation complete!\n",
      "  Validation folds: 5\n",
      "  Detailed report saved: validation_report.csv\n",
      "\n",
      "WARNING: WAR Longitudinal R² very low - consider model improvements\n",
      "Model saved to system2_future_projections_model.pkl\n",
      "Model saved to: system2_future_projections_model.pkl\n"
     ]
    }
   ],
   "source": [
    "# Cell 3: Model Validation and Performance Metrics\n",
    "# ===============================================\n",
    "\n",
    "print(\"CELL 3: MODEL VALIDATION AND PERFORMANCE METRICS\")\n",
    "print(\"=\" * 50)\n",
    "\n",
    "# Perform temporal cross-validation\n",
    "print(f\"\\nPerforming {VALIDATION_SPLITS}-fold temporal cross-validation...\")\n",
    "validation_results = pipeline.validate_model(training_data, VALIDATION_SPLITS)\n",
    "\n",
    "# Display validation results\n",
    "print(\"\\n\" + \"=\" * 50)\n",
    "print(\"CROSS-VALIDATION RESULTS\")\n",
    "print(\"=\" * 50)\n",
    "\n",
    "# Display WAR model validation results\n",
    "if 'war_model_validation' in validation_results:\n",
    "    print(\"\\nWAR Model Cross-Validation:\")\n",
    "    war_val = validation_results['war_model_validation']\n",
    "    \n",
    "    if 'longitudinal_performance' in war_val:\n",
    "        print(\"  Longitudinal Model Performance:\")\n",
    "        long_perf = war_val['longitudinal_performance']\n",
    "        for metric, stats in long_perf.items():\n",
    "            print(f\"    {metric.upper()}: {stats['mean']:.3f} ± {stats['std']:.3f} \"\n",
    "                  f\"(range: {stats['min']:.3f}-{stats['max']:.3f})\")\n",
    "\n",
    "    if 'survival_performance' in war_val:\n",
    "        print(\"  Survival Model Performance:\")\n",
    "        surv_perf = war_val['survival_performance']\n",
    "        for metric, stats in surv_perf.items():\n",
    "            print(f\"    {metric}: {stats['mean']:.3f} ± {stats['std']:.3f} \"\n",
    "                  f\"(range: {stats['min']:.3f}-{stats['max']:.3f})\")\n",
    "\n",
    "# Display WARP model validation results\n",
    "if 'warp_model_validation' in validation_results:\n",
    "    print(\"\\nWARP Model Cross-Validation:\")\n",
    "    warp_val = validation_results['warp_model_validation']\n",
    "    \n",
    "    if 'longitudinal_performance' in warp_val:\n",
    "        print(\"  Longitudinal Model Performance:\")\n",
    "        long_perf = warp_val['longitudinal_performance']\n",
    "        for metric, stats in long_perf.items():\n",
    "            print(f\"    {metric.upper()}: {stats['mean']:.3f} ± {stats['std']:.3f} \"\n",
    "                  f\"(range: {stats['min']:.3f}-{stats['max']:.3f})\")\n",
    "\n",
    "    if 'survival_performance' in warp_val:\n",
    "        print(\"  Survival Model Performance:\")\n",
    "        surv_perf = warp_val['survival_performance']\n",
    "        for metric, stats in surv_perf.items():\n",
    "            print(f\"    {metric}: {stats['mean']:.3f} ± {stats['std']:.3f} \"\n",
    "                  f\"(range: {stats['min']:.3f}-{stats['max']:.3f})\")\n",
    "\n",
    "# Combined assessment for backward compatibility\n",
    "print(\"\\n\" + \"-\" * 30)\n",
    "print(\"PERFORMANCE ASSESSMENT\")\n",
    "print(\"-\" * 30)\n",
    "\n",
    "# Assess performance for each model\n",
    "for model_name, model_key in [('WAR', 'war_model_validation'), ('WARP', 'warp_model_validation')]:\n",
    "    if model_key in validation_results:\n",
    "        val_results = validation_results[model_key]\n",
    "        print(f\"\\n{model_name} Model Assessment:\")\n",
    "        \n",
    "        if 'longitudinal_performance' in val_results:\n",
    "            long_perf = val_results['longitudinal_performance']\n",
    "            \n",
    "            if 'r2' in long_perf:\n",
    "                r2_mean = long_perf['r2']['mean']\n",
    "                if r2_mean > 0.15:\n",
    "                    r2_assessment = \"GOOD - Strong predictive power\"\n",
    "                elif r2_mean > 0.08:\n",
    "                    r2_assessment = \"FAIR - Moderate predictive power\"\n",
    "                else:\n",
    "                    r2_assessment = \"POOR - Limited predictive power\"\n",
    "                print(f\"  Longitudinal R²: {r2_mean:.3f} - {r2_assessment}\")\n",
    "            \n",
    "            if 'rmse' in long_perf:\n",
    "                rmse_mean = long_perf['rmse']['mean']\n",
    "                if rmse_mean < 1.0:\n",
    "                    rmse_assessment = \"GOOD - Low prediction error\"\n",
    "                elif rmse_mean < 1.5:\n",
    "                    rmse_assessment = \"FAIR - Moderate prediction error\"\n",
    "                else:\n",
    "                    rmse_assessment = \"POOR - High prediction error\"\n",
    "                print(f\"  Longitudinal RMSE: {rmse_mean:.3f} - {rmse_assessment}\")\n",
    "\n",
    "        if 'survival_performance' in val_results:\n",
    "            surv_perf = val_results['survival_performance']\n",
    "            \n",
    "            if 'concordance_index' in surv_perf:\n",
    "                c_index_mean = surv_perf['concordance_index']['mean']\n",
    "                if c_index_mean > 0.75:\n",
    "                    c_assessment = \"GOOD - Strong discrimination\"\n",
    "                elif c_index_mean > 0.65:\n",
    "                    c_assessment = \"FAIR - Moderate discrimination\"\n",
    "                else:\n",
    "                    c_assessment = \"POOR - Limited discrimination\"\n",
    "                print(f\"  Survival C-Index: {c_index_mean:.3f} - {c_assessment}\")\n",
    "\n",
    "# Generate detailed validation report\n",
    "validation_report = pipeline.validator.generate_validation_report(\"validation_report.csv\")\n",
    "\n",
    "print(f\"\\nModel validation complete!\")\n",
    "print(f\"  Validation folds: {validation_results.get('n_folds', 'N/A')}\")\n",
    "print(f\"  Detailed report saved: validation_report.csv\")\n",
    "\n",
    "# Save model if performance is acceptable\n",
    "save_model = True\n",
    "\n",
    "# Check if model performance meets minimum thresholds for both models\n",
    "for model_key in ['war_model_validation', 'warp_model_validation']:\n",
    "    if model_key in validation_results:\n",
    "        val_results = validation_results[model_key]\n",
    "        if 'longitudinal_performance' in val_results:\n",
    "            long_perf = val_results['longitudinal_performance']\n",
    "            if 'r2' in long_perf and long_perf['r2']['mean'] < 0.02:\n",
    "                model_name = 'WAR' if 'war' in model_key else 'WARP'\n",
    "                print(f\"\\nWARNING: {model_name} Longitudinal R² very low - consider model improvements\")\n",
    "\n",
    "if save_model:\n",
    "    pipeline.projection_model.save_model(MODEL_SAVE_PATH)\n",
    "    print(f\"Model saved to: {MODEL_SAVE_PATH}\")"
   ]
  },
  {
   "cell_type": "code",
   "execution_count": 4,
   "metadata": {},
   "outputs": [
    {
     "name": "stdout",
     "output_type": "stream",
     "text": [
      "CELL 4: FUTURE PLAYER PROJECTIONS GENERATION\n",
      "==================================================\n",
      "\n",
      "Generating 3-year projections from 2024...\n",
      "\n",
      "Generating 3-year projections from 2024...\n",
      "Projections generated for 1430 players\n",
      "\n",
      "==================================================\n",
      "PROJECTION SUMMARY\n",
      "==================================================\n",
      "Total players projected: 1430\n",
      "Age range: 20-44\n",
      "Position distribution:\n",
      "  P: 792\n",
      "  1B: 166\n",
      "  2B: 127\n",
      "  CF: 122\n",
      "  C: 80\n",
      "  LF: 52\n",
      "  3B: 35\n",
      "  SS: 27\n",
      "  RF: 19\n",
      "  OF: 10\n",
      "\n",
      "WAR Projection statistics:\n",
      "  1: Mean=0.66, Std=0.63, Range=[-0.06, 3.28]\n",
      "  2: Mean=0.64, Std=0.54, Range=[-0.09, 2.92]\n",
      "  3: Mean=0.61, Std=0.44, Range=[-0.03, 2.58]\n",
      "\n",
      "WARP Projection statistics:\n",
      "  1: Mean=0.66, Std=0.68, Range=[-0.09, 3.75]\n",
      "  2: Mean=0.64, Std=0.54, Range=[-0.02, 2.85]\n",
      "  3: Mean=0.65, Std=0.42, Range=[0.03, 2.45]\n",
      "\n",
      "------------------------------\n",
      "FEATURED PLAYER PROJECTIONS\n",
      "------------------------------\n",
      "\n",
      "Mike Trout (Age 32, CF):\n",
      "  Current WAR (2024): 0.9\n",
      "  Current WARP (2024): 1.0\n",
      "  WAR Projections:\n",
      "    2025: 1.6\n",
      "    2026: 0.5\n",
      "    2027: 0.8\n",
      "  WARP Projections:\n",
      "    2025: 0.7\n",
      "    2026: 0.6\n",
      "    2027: 0.5\n",
      "\n",
      "Ronald Acuña Jr. (Age 26, RF):\n",
      "  Current WAR (2024): 0.9\n",
      "  Current WARP (2024): 0.7\n",
      "  WAR Projections:\n",
      "    2025: 2.5\n",
      "    2026: 1.4\n",
      "    2027: 1.6\n",
      "  WARP Projections:\n",
      "    2025: 2.1\n",
      "    2026: 1.7\n",
      "    2027: 1.8\n",
      "\n",
      "Mookie Betts (Age 31, 2B):\n",
      "  Current WAR (2024): 4.3\n",
      "  Current WARP (2024): 3.0\n",
      "  WAR Projections:\n",
      "    2025: 1.8\n",
      "    2026: 1.6\n",
      "    2027: 1.0\n",
      "  WARP Projections:\n",
      "    2025: 1.9\n",
      "    2026: 1.5\n",
      "    2027: 1.2\n",
      "\n",
      "✓ Projections generation complete!\n",
      "  Total projections: 1430\n",
      "  Featured players: 3\n",
      "  Results saved to: future_projections_2024.csv\n",
      "\n",
      "Projection quality check:\n",
      "  Players with WAR data: 1400/1430 (97.9%)\n",
      "  Valid WAR projections: 1429/1400 (102.1%)\n",
      "  Reasonable WAR projections: 1429/1429 (100.0%)\n",
      "  Players with WARP data: 1426/1430 (99.7%)\n",
      "  Valid WARP projections: 1430/1426 (100.3%)\n",
      "✓ WAR projection quality looks good\n",
      "✓ WARP projection quality looks good\n"
     ]
    }
   ],
   "source": [
    "# Cell 4: Future Player Projections Generation\n",
    "# ===========================================\n",
    "\n",
    "print(\"CELL 4: FUTURE PLAYER PROJECTIONS GENERATION\")\n",
    "print(\"=\" * 50)\n",
    "\n",
    "# Generate batch projections for all eligible players\n",
    "print(f\"\\nGenerating {MAX_PROJECTION_YEARS}-year projections from {TARGET_PROJECTION_SEASON}...\")\n",
    "\n",
    "batch_projections = pipeline.batch_generate_projections(\n",
    "    target_season=TARGET_PROJECTION_SEASON,\n",
    "    years_ahead=MAX_PROJECTION_YEARS,\n",
    "    min_career_length=2\n",
    ")\n",
    "\n",
    "# Display projection summary\n",
    "print(\"\\n\" + \"=\" * 50)\n",
    "print(\"PROJECTION SUMMARY\")\n",
    "print(\"=\" * 50)\n",
    "\n",
    "print(f\"Total players projected: {len(batch_projections)}\")\n",
    "print(f\"Age range: {batch_projections['Age'].min():.0f}-{batch_projections['Age'].max():.0f}\")\n",
    "print(f\"Position distribution:\")\n",
    "position_counts = batch_projections['Position'].value_counts()\n",
    "for pos, count in position_counts.head(10).items():\n",
    "    print(f\"  {pos}: {count}\")\n",
    "\n",
    "# Show projection statistics for both WAR and WARP\n",
    "war_projection_cols = [col for col in batch_projections.columns if col.startswith('projected_WAR_')]\n",
    "warp_projection_cols = [col for col in batch_projections.columns if col.startswith('projected_WARP_')]\n",
    "\n",
    "print(f\"\\nWAR Projection statistics:\")\n",
    "for col in war_projection_cols:\n",
    "    year = col.split('_')[-1]\n",
    "    values = batch_projections[col].dropna()\n",
    "    if len(values) > 0:\n",
    "        print(f\"  {year}: Mean={values.mean():.2f}, Std={values.std():.2f}, \"\n",
    "              f\"Range=[{values.min():.2f}, {values.max():.2f}]\")\n",
    "\n",
    "print(f\"\\nWARP Projection statistics:\")\n",
    "for col in warp_projection_cols:\n",
    "    year = col.split('_')[-1]\n",
    "    values = batch_projections[col].dropna()\n",
    "    if len(values) > 0:\n",
    "        print(f\"  {year}: Mean={values.mean():.2f}, Std={values.std():.2f}, \"\n",
    "              f\"Range=[{values.min():.2f}, {values.max():.2f}]\")\n",
    "\n",
    "# Featured player analysis\n",
    "print(\"\\n\" + \"-\" * 30)\n",
    "print(\"FEATURED PLAYER PROJECTIONS\")\n",
    "print(\"-\" * 30)\n",
    "\n",
    "# Select interesting players for detailed analysis\n",
    "featured_players = [\n",
    "    'Mike Trout', 'Shohei Ohtani', 'Ronald Acuña Jr.', \n",
    "    'Mookie Betts', 'Aaron Judge', 'Juan Soto'\n",
    "]\n",
    "\n",
    "featured_projections = []\n",
    "\n",
    "for player_name in featured_players:\n",
    "    player_proj = batch_projections[batch_projections['Name'].str.contains(player_name, case=False, na=False)]\n",
    "    \n",
    "    if not player_proj.empty:\n",
    "        player_row = player_proj.iloc[0]\n",
    "        \n",
    "        print(f\"\\n{player_row['Name']} (Age {player_row['Age']:.0f}, {player_row['Position']}):\")\n",
    "        \n",
    "        # Show current values\n",
    "        if pd.notna(player_row['Current_WAR']):\n",
    "            print(f\"  Current WAR ({TARGET_PROJECTION_SEASON}): {player_row['Current_WAR']:.1f}\")\n",
    "        if pd.notna(player_row['Current_WARP']):\n",
    "            print(f\"  Current WARP ({TARGET_PROJECTION_SEASON}): {player_row['Current_WARP']:.1f}\")\n",
    "        \n",
    "        # Show WAR projections if available\n",
    "        war_projections_exist = any(pd.notna(player_row[col]) for col in war_projection_cols)\n",
    "        if war_projections_exist:\n",
    "            print(\"  WAR Projections:\")\n",
    "            for col in war_projection_cols:\n",
    "                year = col.split('_')[-1]\n",
    "                projected_war = player_row[col]\n",
    "                if pd.notna(projected_war):\n",
    "                    proj_year = int(TARGET_PROJECTION_SEASON) + int(year.replace('year_', ''))\n",
    "                    print(f\"    {proj_year}: {projected_war:.1f}\")\n",
    "        \n",
    "        # Show WARP projections if available\n",
    "        warp_projections_exist = any(pd.notna(player_row[col]) for col in warp_projection_cols)\n",
    "        if warp_projections_exist:\n",
    "            print(\"  WARP Projections:\")\n",
    "            for col in warp_projection_cols:\n",
    "                year = col.split('_')[-1]\n",
    "                projected_warp = player_row[col]\n",
    "                if pd.notna(projected_warp):\n",
    "                    proj_year = int(TARGET_PROJECTION_SEASON) + int(year.replace('year_', ''))\n",
    "                    print(f\"    {proj_year}: {projected_warp:.1f}\")\n",
    "        \n",
    "        # If neither WAR nor WARP projections exist, indicate this\n",
    "        if not war_projections_exist and not warp_projections_exist:\n",
    "            print(\"  No projections available for this player\")\n",
    "        \n",
    "        featured_projections.append(player_row)\n",
    "\n",
    "# Save projections\n",
    "projections_filename = f\"future_projections_{TARGET_PROJECTION_SEASON}.csv\"\n",
    "batch_projections.to_csv(projections_filename, index=False)\n",
    "\n",
    "print(f\"\\n✓ Projections generation complete!\")\n",
    "print(f\"  Total projections: {len(batch_projections)}\")\n",
    "print(f\"  Featured players: {len(featured_projections)}\")\n",
    "print(f\"  Results saved to: {projections_filename}\")\n",
    "\n",
    "# Improved projection quality check\n",
    "war_valid_projections = batch_projections['projected_WAR_year_1'].dropna()\n",
    "reasonable_projections = war_valid_projections[\n",
    "    (war_valid_projections >= -2) & \n",
    "    (war_valid_projections <= 12)\n",
    "]\n",
    "total_with_war_data = len(batch_projections[batch_projections['Current_WAR'].notna()])\n",
    "\n",
    "print(f\"\\nProjection quality check:\")\n",
    "print(f\"  Players with WAR data: {total_with_war_data}/{len(batch_projections)} ({total_with_war_data/len(batch_projections)*100:.1f}%)\")\n",
    "print(f\"  Valid WAR projections: {len(war_valid_projections)}/{total_with_war_data} ({len(war_valid_projections)/max(1, total_with_war_data)*100:.1f}%)\")\n",
    "print(f\"  Reasonable WAR projections: {len(reasonable_projections)}/{len(war_valid_projections)} ({len(reasonable_projections)/max(1, len(war_valid_projections))*100:.1f}%)\")\n",
    "\n",
    "# Check WARP projections too\n",
    "warp_valid_projections = batch_projections['projected_WARP_year_1'].dropna()\n",
    "total_with_warp_data = len(batch_projections[batch_projections['Current_WARP'].notna()])\n",
    "\n",
    "print(f\"  Players with WARP data: {total_with_warp_data}/{len(batch_projections)} ({total_with_warp_data/len(batch_projections)*100:.1f}%)\")\n",
    "print(f\"  Valid WARP projections: {len(warp_valid_projections)}/{total_with_warp_data} ({len(warp_valid_projections)/max(1, total_with_warp_data)*100:.1f}%)\")\n",
    "\n",
    "if len(war_valid_projections) < total_with_war_data * 0.85:\n",
    "    print(\"⚠ WARNING: Many players missing WAR projections\")\n",
    "elif len(reasonable_projections) / max(1, len(war_valid_projections)) < 0.85:\n",
    "    print(\"⚠ WARNING: High percentage of unreasonable WAR projections\")\n",
    "else:\n",
    "    print(\"✓ WAR projection quality looks good\")\n",
    "\n",
    "if len(warp_valid_projections) < total_with_warp_data * 0.85:\n",
    "    print(\"⚠ WARNING: Many players missing WARP projections\")\n",
    "else:\n",
    "    print(\"✓ WARP projection quality looks good\")"
   ]
  },
  {
   "cell_type": "code",
   "execution_count": 5,
   "metadata": {},
   "outputs": [
    {
     "data": {
      "application/vnd.plotly.v1+json": {
       "config": {
        "plotlyServerURL": "https://plot.ly"
       },
       "data": [
        {
         "marker": {
          "color": "lightblue"
         },
         "name": "R²",
         "type": "bar",
         "x": {
          "bdata": "AQIDBAU=",
          "dtype": "i1"
         },
         "xaxis": "x",
         "y": {
          "bdata": "yOVJsY1qzD8cBKuhYjfxvwwrKn7+C8M/ng2ESeoN0T+aI7FqDrrRPw==",
          "dtype": "f8"
         },
         "yaxis": "y"
        },
        {
         "marker": {
          "color": "lightcoral"
         },
         "name": "RMSE",
         "type": "bar",
         "x": {
          "bdata": "AQIDBAU=",
          "dtype": "i1"
         },
         "xaxis": "x2",
         "y": {
          "bdata": "5dZSI0Zq6D8xgyL2a7LgP0gSIu9s7+0/lkY3DpIp5j8l2XaCnqPmPw==",
          "dtype": "f8"
         },
         "yaxis": "y2"
        },
        {
         "marker": {
          "color": "lightgreen"
         },
         "name": "C-Index",
         "type": "bar",
         "x": {
          "bdata": "AQIDBAU=",
          "dtype": "i1"
         },
         "xaxis": "x3",
         "y": {
          "bdata": "a7ydtHGL5T8OJR+bFofkP6cXEFriyug/FJRf7pLd6j8yxOgxxOjpPw==",
          "dtype": "f8"
         },
         "yaxis": "y3"
        },
        {
         "cells": {
          "fill": {
           "color": "white"
          },
          "values": [
           [
            "Mean R²",
            "Mean C-Index",
            "Folds"
           ],
           [
            "-0.032 ± 0.586",
            "0.748 ± 0.086",
            "5"
           ]
          ]
         },
         "domain": {
          "x": [
           0.55,
           1
          ],
          "y": [
           0,
           0.375
          ]
         },
         "header": {
          "fill": {
           "color": "lightgray"
          },
          "values": [
           "Metric",
           "Value"
          ]
         },
         "type": "table"
        }
       ],
       "layout": {
        "annotations": [
         {
          "font": {
           "size": 16
          },
          "showarrow": false,
          "text": "Longitudinal R²",
          "x": 0.225,
          "xanchor": "center",
          "xref": "paper",
          "y": 1,
          "yanchor": "bottom",
          "yref": "paper"
         },
         {
          "font": {
           "size": 16
          },
          "showarrow": false,
          "text": "Longitudinal RMSE",
          "x": 0.775,
          "xanchor": "center",
          "xref": "paper",
          "y": 1,
          "yanchor": "bottom",
          "yref": "paper"
         },
         {
          "font": {
           "size": 16
          },
          "showarrow": false,
          "text": "Survival Concordance Index",
          "x": 0.225,
          "xanchor": "center",
          "xref": "paper",
          "y": 0.375,
          "yanchor": "bottom",
          "yref": "paper"
         },
         {
          "font": {
           "size": 16
          },
          "showarrow": false,
          "text": "Summary",
          "x": 0.775,
          "xanchor": "center",
          "xref": "paper",
          "y": 0.375,
          "yanchor": "bottom",
          "yref": "paper"
         }
        ],
        "height": 800,
        "showlegend": false,
        "template": {
         "data": {
          "bar": [
           {
            "error_x": {
             "color": "#2a3f5f"
            },
            "error_y": {
             "color": "#2a3f5f"
            },
            "marker": {
             "line": {
              "color": "#E5ECF6",
              "width": 0.5
             },
             "pattern": {
              "fillmode": "overlay",
              "size": 10,
              "solidity": 0.2
             }
            },
            "type": "bar"
           }
          ],
          "barpolar": [
           {
            "marker": {
             "line": {
              "color": "#E5ECF6",
              "width": 0.5
             },
             "pattern": {
              "fillmode": "overlay",
              "size": 10,
              "solidity": 0.2
             }
            },
            "type": "barpolar"
           }
          ],
          "carpet": [
           {
            "aaxis": {
             "endlinecolor": "#2a3f5f",
             "gridcolor": "white",
             "linecolor": "white",
             "minorgridcolor": "white",
             "startlinecolor": "#2a3f5f"
            },
            "baxis": {
             "endlinecolor": "#2a3f5f",
             "gridcolor": "white",
             "linecolor": "white",
             "minorgridcolor": "white",
             "startlinecolor": "#2a3f5f"
            },
            "type": "carpet"
           }
          ],
          "choropleth": [
           {
            "colorbar": {
             "outlinewidth": 0,
             "ticks": ""
            },
            "type": "choropleth"
           }
          ],
          "contour": [
           {
            "colorbar": {
             "outlinewidth": 0,
             "ticks": ""
            },
            "colorscale": [
             [
              0,
              "#0d0887"
             ],
             [
              0.1111111111111111,
              "#46039f"
             ],
             [
              0.2222222222222222,
              "#7201a8"
             ],
             [
              0.3333333333333333,
              "#9c179e"
             ],
             [
              0.4444444444444444,
              "#bd3786"
             ],
             [
              0.5555555555555556,
              "#d8576b"
             ],
             [
              0.6666666666666666,
              "#ed7953"
             ],
             [
              0.7777777777777778,
              "#fb9f3a"
             ],
             [
              0.8888888888888888,
              "#fdca26"
             ],
             [
              1,
              "#f0f921"
             ]
            ],
            "type": "contour"
           }
          ],
          "contourcarpet": [
           {
            "colorbar": {
             "outlinewidth": 0,
             "ticks": ""
            },
            "type": "contourcarpet"
           }
          ],
          "heatmap": [
           {
            "colorbar": {
             "outlinewidth": 0,
             "ticks": ""
            },
            "colorscale": [
             [
              0,
              "#0d0887"
             ],
             [
              0.1111111111111111,
              "#46039f"
             ],
             [
              0.2222222222222222,
              "#7201a8"
             ],
             [
              0.3333333333333333,
              "#9c179e"
             ],
             [
              0.4444444444444444,
              "#bd3786"
             ],
             [
              0.5555555555555556,
              "#d8576b"
             ],
             [
              0.6666666666666666,
              "#ed7953"
             ],
             [
              0.7777777777777778,
              "#fb9f3a"
             ],
             [
              0.8888888888888888,
              "#fdca26"
             ],
             [
              1,
              "#f0f921"
             ]
            ],
            "type": "heatmap"
           }
          ],
          "histogram": [
           {
            "marker": {
             "pattern": {
              "fillmode": "overlay",
              "size": 10,
              "solidity": 0.2
             }
            },
            "type": "histogram"
           }
          ],
          "histogram2d": [
           {
            "colorbar": {
             "outlinewidth": 0,
             "ticks": ""
            },
            "colorscale": [
             [
              0,
              "#0d0887"
             ],
             [
              0.1111111111111111,
              "#46039f"
             ],
             [
              0.2222222222222222,
              "#7201a8"
             ],
             [
              0.3333333333333333,
              "#9c179e"
             ],
             [
              0.4444444444444444,
              "#bd3786"
             ],
             [
              0.5555555555555556,
              "#d8576b"
             ],
             [
              0.6666666666666666,
              "#ed7953"
             ],
             [
              0.7777777777777778,
              "#fb9f3a"
             ],
             [
              0.8888888888888888,
              "#fdca26"
             ],
             [
              1,
              "#f0f921"
             ]
            ],
            "type": "histogram2d"
           }
          ],
          "histogram2dcontour": [
           {
            "colorbar": {
             "outlinewidth": 0,
             "ticks": ""
            },
            "colorscale": [
             [
              0,
              "#0d0887"
             ],
             [
              0.1111111111111111,
              "#46039f"
             ],
             [
              0.2222222222222222,
              "#7201a8"
             ],
             [
              0.3333333333333333,
              "#9c179e"
             ],
             [
              0.4444444444444444,
              "#bd3786"
             ],
             [
              0.5555555555555556,
              "#d8576b"
             ],
             [
              0.6666666666666666,
              "#ed7953"
             ],
             [
              0.7777777777777778,
              "#fb9f3a"
             ],
             [
              0.8888888888888888,
              "#fdca26"
             ],
             [
              1,
              "#f0f921"
             ]
            ],
            "type": "histogram2dcontour"
           }
          ],
          "mesh3d": [
           {
            "colorbar": {
             "outlinewidth": 0,
             "ticks": ""
            },
            "type": "mesh3d"
           }
          ],
          "parcoords": [
           {
            "line": {
             "colorbar": {
              "outlinewidth": 0,
              "ticks": ""
             }
            },
            "type": "parcoords"
           }
          ],
          "pie": [
           {
            "automargin": true,
            "type": "pie"
           }
          ],
          "scatter": [
           {
            "fillpattern": {
             "fillmode": "overlay",
             "size": 10,
             "solidity": 0.2
            },
            "type": "scatter"
           }
          ],
          "scatter3d": [
           {
            "line": {
             "colorbar": {
              "outlinewidth": 0,
              "ticks": ""
             }
            },
            "marker": {
             "colorbar": {
              "outlinewidth": 0,
              "ticks": ""
             }
            },
            "type": "scatter3d"
           }
          ],
          "scattercarpet": [
           {
            "marker": {
             "colorbar": {
              "outlinewidth": 0,
              "ticks": ""
             }
            },
            "type": "scattercarpet"
           }
          ],
          "scattergeo": [
           {
            "marker": {
             "colorbar": {
              "outlinewidth": 0,
              "ticks": ""
             }
            },
            "type": "scattergeo"
           }
          ],
          "scattergl": [
           {
            "marker": {
             "colorbar": {
              "outlinewidth": 0,
              "ticks": ""
             }
            },
            "type": "scattergl"
           }
          ],
          "scattermap": [
           {
            "marker": {
             "colorbar": {
              "outlinewidth": 0,
              "ticks": ""
             }
            },
            "type": "scattermap"
           }
          ],
          "scattermapbox": [
           {
            "marker": {
             "colorbar": {
              "outlinewidth": 0,
              "ticks": ""
             }
            },
            "type": "scattermapbox"
           }
          ],
          "scatterpolar": [
           {
            "marker": {
             "colorbar": {
              "outlinewidth": 0,
              "ticks": ""
             }
            },
            "type": "scatterpolar"
           }
          ],
          "scatterpolargl": [
           {
            "marker": {
             "colorbar": {
              "outlinewidth": 0,
              "ticks": ""
             }
            },
            "type": "scatterpolargl"
           }
          ],
          "scatterternary": [
           {
            "marker": {
             "colorbar": {
              "outlinewidth": 0,
              "ticks": ""
             }
            },
            "type": "scatterternary"
           }
          ],
          "surface": [
           {
            "colorbar": {
             "outlinewidth": 0,
             "ticks": ""
            },
            "colorscale": [
             [
              0,
              "#0d0887"
             ],
             [
              0.1111111111111111,
              "#46039f"
             ],
             [
              0.2222222222222222,
              "#7201a8"
             ],
             [
              0.3333333333333333,
              "#9c179e"
             ],
             [
              0.4444444444444444,
              "#bd3786"
             ],
             [
              0.5555555555555556,
              "#d8576b"
             ],
             [
              0.6666666666666666,
              "#ed7953"
             ],
             [
              0.7777777777777778,
              "#fb9f3a"
             ],
             [
              0.8888888888888888,
              "#fdca26"
             ],
             [
              1,
              "#f0f921"
             ]
            ],
            "type": "surface"
           }
          ],
          "table": [
           {
            "cells": {
             "fill": {
              "color": "#EBF0F8"
             },
             "line": {
              "color": "white"
             }
            },
            "header": {
             "fill": {
              "color": "#C8D4E3"
             },
             "line": {
              "color": "white"
             }
            },
            "type": "table"
           }
          ]
         },
         "layout": {
          "annotationdefaults": {
           "arrowcolor": "#2a3f5f",
           "arrowhead": 0,
           "arrowwidth": 1
          },
          "autotypenumbers": "strict",
          "coloraxis": {
           "colorbar": {
            "outlinewidth": 0,
            "ticks": ""
           }
          },
          "colorscale": {
           "diverging": [
            [
             0,
             "#8e0152"
            ],
            [
             0.1,
             "#c51b7d"
            ],
            [
             0.2,
             "#de77ae"
            ],
            [
             0.3,
             "#f1b6da"
            ],
            [
             0.4,
             "#fde0ef"
            ],
            [
             0.5,
             "#f7f7f7"
            ],
            [
             0.6,
             "#e6f5d0"
            ],
            [
             0.7,
             "#b8e186"
            ],
            [
             0.8,
             "#7fbc41"
            ],
            [
             0.9,
             "#4d9221"
            ],
            [
             1,
             "#276419"
            ]
           ],
           "sequential": [
            [
             0,
             "#0d0887"
            ],
            [
             0.1111111111111111,
             "#46039f"
            ],
            [
             0.2222222222222222,
             "#7201a8"
            ],
            [
             0.3333333333333333,
             "#9c179e"
            ],
            [
             0.4444444444444444,
             "#bd3786"
            ],
            [
             0.5555555555555556,
             "#d8576b"
            ],
            [
             0.6666666666666666,
             "#ed7953"
            ],
            [
             0.7777777777777778,
             "#fb9f3a"
            ],
            [
             0.8888888888888888,
             "#fdca26"
            ],
            [
             1,
             "#f0f921"
            ]
           ],
           "sequentialminus": [
            [
             0,
             "#0d0887"
            ],
            [
             0.1111111111111111,
             "#46039f"
            ],
            [
             0.2222222222222222,
             "#7201a8"
            ],
            [
             0.3333333333333333,
             "#9c179e"
            ],
            [
             0.4444444444444444,
             "#bd3786"
            ],
            [
             0.5555555555555556,
             "#d8576b"
            ],
            [
             0.6666666666666666,
             "#ed7953"
            ],
            [
             0.7777777777777778,
             "#fb9f3a"
            ],
            [
             0.8888888888888888,
             "#fdca26"
            ],
            [
             1,
             "#f0f921"
            ]
           ]
          },
          "colorway": [
           "#636efa",
           "#EF553B",
           "#00cc96",
           "#ab63fa",
           "#FFA15A",
           "#19d3f3",
           "#FF6692",
           "#B6E880",
           "#FF97FF",
           "#FECB52"
          ],
          "font": {
           "color": "#2a3f5f"
          },
          "geo": {
           "bgcolor": "white",
           "lakecolor": "white",
           "landcolor": "#E5ECF6",
           "showlakes": true,
           "showland": true,
           "subunitcolor": "white"
          },
          "hoverlabel": {
           "align": "left"
          },
          "hovermode": "closest",
          "mapbox": {
           "style": "light"
          },
          "paper_bgcolor": "white",
          "plot_bgcolor": "#E5ECF6",
          "polar": {
           "angularaxis": {
            "gridcolor": "white",
            "linecolor": "white",
            "ticks": ""
           },
           "bgcolor": "#E5ECF6",
           "radialaxis": {
            "gridcolor": "white",
            "linecolor": "white",
            "ticks": ""
           }
          },
          "scene": {
           "xaxis": {
            "backgroundcolor": "#E5ECF6",
            "gridcolor": "white",
            "gridwidth": 2,
            "linecolor": "white",
            "showbackground": true,
            "ticks": "",
            "zerolinecolor": "white"
           },
           "yaxis": {
            "backgroundcolor": "#E5ECF6",
            "gridcolor": "white",
            "gridwidth": 2,
            "linecolor": "white",
            "showbackground": true,
            "ticks": "",
            "zerolinecolor": "white"
           },
           "zaxis": {
            "backgroundcolor": "#E5ECF6",
            "gridcolor": "white",
            "gridwidth": 2,
            "linecolor": "white",
            "showbackground": true,
            "ticks": "",
            "zerolinecolor": "white"
           }
          },
          "shapedefaults": {
           "line": {
            "color": "#2a3f5f"
           }
          },
          "ternary": {
           "aaxis": {
            "gridcolor": "white",
            "linecolor": "white",
            "ticks": ""
           },
           "baxis": {
            "gridcolor": "white",
            "linecolor": "white",
            "ticks": ""
           },
           "bgcolor": "#E5ECF6",
           "caxis": {
            "gridcolor": "white",
            "linecolor": "white",
            "ticks": ""
           }
          },
          "title": {
           "x": 0.05
          },
          "xaxis": {
           "automargin": true,
           "gridcolor": "white",
           "linecolor": "white",
           "ticks": "",
           "title": {
            "standoff": 15
           },
           "zerolinecolor": "white",
           "zerolinewidth": 2
          },
          "yaxis": {
           "automargin": true,
           "gridcolor": "white",
           "linecolor": "white",
           "ticks": "",
           "title": {
            "standoff": 15
           },
           "zerolinecolor": "white",
           "zerolinewidth": 2
          }
         }
        },
        "title": {
         "text": "Joint Model Validation Results"
        },
        "xaxis": {
         "anchor": "y",
         "domain": [
          0,
          0.45
         ]
        },
        "xaxis2": {
         "anchor": "y2",
         "domain": [
          0.55,
          1
         ]
        },
        "xaxis3": {
         "anchor": "y3",
         "domain": [
          0,
          0.45
         ]
        },
        "yaxis": {
         "anchor": "x",
         "domain": [
          0.625,
          1
         ]
        },
        "yaxis2": {
         "anchor": "x2",
         "domain": [
          0.625,
          1
         ]
        },
        "yaxis3": {
         "anchor": "x3",
         "domain": [
          0,
          0.375
         ]
        }
       }
      }
     },
     "metadata": {},
     "output_type": "display_data"
    }
   ],
   "source": [
    "if hasattr(pipeline.validator, 'validation_results') and pipeline.validator.validation_results:\n",
    "    # Plot validation metrics across folds\n",
    "    pipeline.validator.plot_validation_metrics()\n",
    "else:\n",
    "    print(\"   Note: Validation plots not available - run validation first\")"
   ]
  }
 ],
 "metadata": {
  "kernelspec": {
   "display_name": ".venv",
   "language": "python",
   "name": "python3"
  },
  "language_info": {
   "codemirror_mode": {
    "name": "ipython",
    "version": 3
   },
   "file_extension": ".py",
   "mimetype": "text/x-python",
   "name": "python",
   "nbconvert_exporter": "python",
   "pygments_lexer": "ipython3",
   "version": "3.13.7"
  }
 },
 "nbformat": 4,
 "nbformat_minor": 4
}
